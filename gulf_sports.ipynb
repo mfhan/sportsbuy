{
 "cells": [
  {
   "cell_type": "code",
   "execution_count": 17,
   "id": "85b046fe",
   "metadata": {},
   "outputs": [
    {
     "name": "stdout",
     "output_type": "stream",
     "text": [
      "   Player Year                Name          Team Name     Salary\n",
      "0    2020-2021        Lionel Messi       FC Barcelona   92000000\n",
      "1    2021-2022        Lionel Messi                PSG   68600000\n",
      "2    2021-2022              Neymar                PSG   43470000\n",
      "3    2021-2022         Luis Suarez   Athletico Madrid   41200000\n",
      "4    2021-2022   Antoine Griezmann   Athletico Madrid   41200000\n",
      "5    2021-2022         Gareth Bale        Real Madrid   35800000\n",
      "6    2021-2022       Kylian Mbappe                PSG   29400000\n",
      "7    2021-2022   Cristiano Ronaldo  Manchester United   29000000\n",
      "8    2021-2022     Kevin De Bruyne    Manchester City   27600000\n",
      "9    2021-2022        David De Gea  Manchester United   26800000\n",
      "10   2021-2022  Robert Lewandowski      Bayern Munich   25100000\n",
      "11   2022-2023              Neymar                PSG   60000000\n",
      "12   2022-2023       Kylian Mbappe                PSG  128000000\n",
      "13   2022-2023        Lionel Messi                PSG  110000000\n"
     ]
    }
   ],
   "source": [
    "import pandas as pd\n",
    "\n",
    "# List of data\n",
    "data = [\n",
    "    (\"2020-2021\", \"Lionel Messi\", \"FC Barcelona\", 92000000),\n",
    "    (\"2021-2022\", \"Lionel Messi\", \"PSG\", 68600000),\n",
    "    (\"2021-2022\", \"Neymar\", \"PSG\", 43470000),\n",
    "    (\"2021-2022\", \"Luis Suarez\", \"Athletico Madrid\", 41200000),\n",
    "    (\"2021-2022\", \"Antoine Griezmann\", \"Athletico Madrid\", 41200000),\n",
    "    (\"2021-2022\", \"Gareth Bale\", \"Real Madrid\", 35800000),\n",
    "    (\"2021-2022\", \"Kylian Mbappe\", \"PSG\", 29400000),\n",
    "    (\"2021-2022\", \"Cristiano Ronaldo\", \"Manchester United\", 29000000),\n",
    "    (\"2021-2022\", \"Kevin De Bruyne\", \"Manchester City\", 27600000),\n",
    "    (\"2021-2022\", \"David De Gea\", \"Manchester United\", 26800000),\n",
    "    (\"2021-2022\", \"Robert Lewandowski\", \"Bayern Munich\", 25100000),\n",
    "    (\"2022-2023\", \"Neymar\", \"PSG\", 60000000),\n",
    "    (\"2022-2023\", \"Kylian Mbappe\", \"PSG\", 128000000),\n",
    "    (\"2022-2023\", \"Lionel Messi\", \"PSG\", 110000000),\n",
    "]\n",
    "\n",
    "# Create a DataFrame\n",
    "df = pd.DataFrame(data, columns=[\"Player Year\", \"Name\", \"Team Name\", \"Salary\"])\n",
    "\n",
    "# Show the DataFrame\n",
    "print(df)"
   ]
  },
  {
   "cell_type": "code",
   "execution_count": 18,
   "id": "2dfd0b2e",
   "metadata": {},
   "outputs": [
    {
     "name": "stdout",
     "output_type": "stream",
     "text": [
      "Player Year          2020-2021   2021-2022    2022-2023\n",
      "Name                                                   \n",
      "Antoine Griezmann          0.0  41200000.0          0.0\n",
      "Cristiano Ronaldo          0.0  29000000.0          0.0\n",
      "David De Gea               0.0  26800000.0          0.0\n",
      "Gareth Bale                0.0  35800000.0          0.0\n",
      "Kevin De Bruyne            0.0  27600000.0          0.0\n",
      "Kylian Mbappe              0.0  29400000.0  128000000.0\n",
      "Lionel Messi        92000000.0  68600000.0  110000000.0\n",
      "Luis Suarez                0.0  41200000.0          0.0\n",
      "Neymar                     0.0  43470000.0   60000000.0\n",
      "Robert Lewandowski         0.0  25100000.0          0.0\n"
     ]
    }
   ],
   "source": [
    "# Pivot the DataFrame around the player's names\n",
    "pivot_df = df.pivot(index='Name', columns='Player Year', values='Salary')\n",
    "\n",
    "# Replace NaN with 0 or any specific value\n",
    "pivot_df = pivot_df.fillna(0)\n",
    "\n",
    "# Show the pivot DataFrame\n",
    "print(pivot_df)"
   ]
  },
  {
   "cell_type": "code",
   "execution_count": 4,
   "id": "6dcd2b32",
   "metadata": {},
   "outputs": [
    {
     "name": "stdout",
     "output_type": "stream",
     "text": [
      "Player Year         Salary_2020-2021  Salary_2021-2022  Salary_2022-2023  \\\n",
      "Name                                                                       \n",
      "Antoine Griezmann                0.0        41200000.0               0.0   \n",
      "Cristiano Ronaldo                0.0        29000000.0               0.0   \n",
      "David De Gea                     0.0        26800000.0               0.0   \n",
      "Gareth Bale                      0.0        35800000.0               0.0   \n",
      "Kevin De Bruyne                  0.0        27600000.0               0.0   \n",
      "Kylian Mbappe                    0.0        29400000.0       128000000.0   \n",
      "Lionel Messi              92000000.0        68600000.0       110000000.0   \n",
      "Luis Suarez                      0.0        41200000.0               0.0   \n",
      "Neymar                           0.0        43470000.0               0.0   \n",
      "Robert Lewandowski               0.0        25100000.0               0.0   \n",
      "\n",
      "Player Year        Team_2020-2021     Team_2021-2022 Team_2022-2023  \n",
      "Name                                                                 \n",
      "Antoine Griezmann         Unknown   Athletico Madrid        Unknown  \n",
      "Cristiano Ronaldo         Unknown  Manchester United        Unknown  \n",
      "David De Gea              Unknown  Manchester United        Unknown  \n",
      "Gareth Bale               Unknown        Real Madrid        Unknown  \n",
      "Kevin De Bruyne           Unknown    Manchester City        Unknown  \n",
      "Kylian Mbappe             Unknown                PSG            PSG  \n",
      "Lionel Messi         FC Barcelona                PSG            PSG  \n",
      "Luis Suarez               Unknown   Athletico Madrid        Unknown  \n",
      "Neymar                    Unknown                PSG        Unknown  \n",
      "Robert Lewandowski        Unknown      Bayern Munich        Unknown  \n"
     ]
    }
   ],
   "source": [
    "# Pivot the DataFrame around the player's names for Salary and Team Name\n",
    "pivot_salary = df.pivot(index='Name', columns='Player Year', values='Salary').add_prefix('Salary_')\n",
    "pivot_team = df.pivot(index='Name', columns='Player Year', values='Team Name').add_prefix('Team_')\n",
    "\n",
    "# Concatenate the two dataframes\n",
    "pivot_df = pd.concat([pivot_salary, pivot_team], axis=1)\n",
    "\n",
    "# Replace NaN with 0 or any specific value for salary and 'Unknown' for team\n",
    "pivot_df.loc[:, pivot_df.columns.str.startswith('Salary')] = pivot_df.loc[:, pivot_df.columns.str.startswith('Salary')].fillna(0)\n",
    "pivot_df.loc[:, pivot_df.columns.str.startswith('Team')] = pivot_df.loc[:, pivot_df.columns.str.startswith('Team')].fillna('Unknown')\n",
    "\n",
    "# Show the pivot DataFrame\n",
    "print(pivot_df)"
   ]
  },
  {
   "cell_type": "code",
   "execution_count": 8,
   "id": "f8771660",
   "metadata": {},
   "outputs": [
    {
     "name": "stderr",
     "output_type": "stream",
     "text": [
      "/var/folders/14/lw5tk0f524ggxb917v9jt25m0000gn/T/ipykernel_61308/958213907.py:1: FutureWarning: The frame.append method is deprecated and will be removed from pandas in a future version. Use pandas.concat instead.\n",
      "  df = df.append({\"Player Year\": \"2020-2021\", \"Name\": \"Cristiano Ronaldo\", \"Team Name\": \"Juventus Football Club\", \"Salary\": 70000000}, ignore_index=True)\n"
     ]
    },
    {
     "ename": "ValueError",
     "evalue": "Index contains duplicate entries, cannot reshape",
     "output_type": "error",
     "traceback": [
      "\u001b[0;31m---------------------------------------------------------------------------\u001b[0m",
      "\u001b[0;31mValueError\u001b[0m                                Traceback (most recent call last)",
      "Input \u001b[0;32mIn [8]\u001b[0m, in \u001b[0;36m<cell line: 4>\u001b[0;34m()\u001b[0m\n\u001b[1;32m      1\u001b[0m df \u001b[38;5;241m=\u001b[39m df\u001b[38;5;241m.\u001b[39mappend({\u001b[38;5;124m\"\u001b[39m\u001b[38;5;124mPlayer Year\u001b[39m\u001b[38;5;124m\"\u001b[39m: \u001b[38;5;124m\"\u001b[39m\u001b[38;5;124m2020-2021\u001b[39m\u001b[38;5;124m\"\u001b[39m, \u001b[38;5;124m\"\u001b[39m\u001b[38;5;124mName\u001b[39m\u001b[38;5;124m\"\u001b[39m: \u001b[38;5;124m\"\u001b[39m\u001b[38;5;124mCristiano Ronaldo\u001b[39m\u001b[38;5;124m\"\u001b[39m, \u001b[38;5;124m\"\u001b[39m\u001b[38;5;124mTeam Name\u001b[39m\u001b[38;5;124m\"\u001b[39m: \u001b[38;5;124m\"\u001b[39m\u001b[38;5;124mJuventus Football Club\u001b[39m\u001b[38;5;124m\"\u001b[39m, \u001b[38;5;124m\"\u001b[39m\u001b[38;5;124mSalary\u001b[39m\u001b[38;5;124m\"\u001b[39m: \u001b[38;5;241m70000000\u001b[39m}, ignore_index\u001b[38;5;241m=\u001b[39m\u001b[38;5;28;01mTrue\u001b[39;00m)\n\u001b[1;32m      3\u001b[0m \u001b[38;5;66;03m# Pivot the DataFrame around the player's names for Salary and Team Name\u001b[39;00m\n\u001b[0;32m----> 4\u001b[0m pivot_salary \u001b[38;5;241m=\u001b[39m \u001b[43mdf\u001b[49m\u001b[38;5;241;43m.\u001b[39;49m\u001b[43mpivot\u001b[49m\u001b[43m(\u001b[49m\u001b[43mindex\u001b[49m\u001b[38;5;241;43m=\u001b[39;49m\u001b[38;5;124;43m'\u001b[39;49m\u001b[38;5;124;43mName\u001b[39;49m\u001b[38;5;124;43m'\u001b[39;49m\u001b[43m,\u001b[49m\u001b[43m \u001b[49m\u001b[43mcolumns\u001b[49m\u001b[38;5;241;43m=\u001b[39;49m\u001b[38;5;124;43m'\u001b[39;49m\u001b[38;5;124;43mPlayer Year\u001b[39;49m\u001b[38;5;124;43m'\u001b[39;49m\u001b[43m,\u001b[49m\u001b[43m \u001b[49m\u001b[43mvalues\u001b[49m\u001b[38;5;241;43m=\u001b[39;49m\u001b[38;5;124;43m'\u001b[39;49m\u001b[38;5;124;43mSalary\u001b[39;49m\u001b[38;5;124;43m'\u001b[39;49m\u001b[43m)\u001b[49m\u001b[38;5;241m.\u001b[39madd_prefix(\u001b[38;5;124m'\u001b[39m\u001b[38;5;124mSalary_\u001b[39m\u001b[38;5;124m'\u001b[39m)\n\u001b[1;32m      5\u001b[0m pivot_team \u001b[38;5;241m=\u001b[39m df\u001b[38;5;241m.\u001b[39mpivot(index\u001b[38;5;241m=\u001b[39m\u001b[38;5;124m'\u001b[39m\u001b[38;5;124mName\u001b[39m\u001b[38;5;124m'\u001b[39m, columns\u001b[38;5;241m=\u001b[39m\u001b[38;5;124m'\u001b[39m\u001b[38;5;124mPlayer Year\u001b[39m\u001b[38;5;124m'\u001b[39m, values\u001b[38;5;241m=\u001b[39m\u001b[38;5;124m'\u001b[39m\u001b[38;5;124mTeam Name\u001b[39m\u001b[38;5;124m'\u001b[39m)\u001b[38;5;241m.\u001b[39madd_prefix(\u001b[38;5;124m'\u001b[39m\u001b[38;5;124mTeam_\u001b[39m\u001b[38;5;124m'\u001b[39m)\n\u001b[1;32m      7\u001b[0m \u001b[38;5;66;03m# Concatenate the two dataframes\u001b[39;00m\n",
      "File \u001b[0;32m~/opt/anaconda3/lib/python3.9/site-packages/pandas/core/frame.py:7885\u001b[0m, in \u001b[0;36mDataFrame.pivot\u001b[0;34m(self, index, columns, values)\u001b[0m\n\u001b[1;32m   7880\u001b[0m \u001b[38;5;129m@Substitution\u001b[39m(\u001b[38;5;124m\"\u001b[39m\u001b[38;5;124m\"\u001b[39m)\n\u001b[1;32m   7881\u001b[0m \u001b[38;5;129m@Appender\u001b[39m(_shared_docs[\u001b[38;5;124m\"\u001b[39m\u001b[38;5;124mpivot\u001b[39m\u001b[38;5;124m\"\u001b[39m])\n\u001b[1;32m   7882\u001b[0m \u001b[38;5;28;01mdef\u001b[39;00m \u001b[38;5;21mpivot\u001b[39m(\u001b[38;5;28mself\u001b[39m, index\u001b[38;5;241m=\u001b[39m\u001b[38;5;28;01mNone\u001b[39;00m, columns\u001b[38;5;241m=\u001b[39m\u001b[38;5;28;01mNone\u001b[39;00m, values\u001b[38;5;241m=\u001b[39m\u001b[38;5;28;01mNone\u001b[39;00m) \u001b[38;5;241m-\u001b[39m\u001b[38;5;241m>\u001b[39m DataFrame:\n\u001b[1;32m   7883\u001b[0m     \u001b[38;5;28;01mfrom\u001b[39;00m \u001b[38;5;21;01mpandas\u001b[39;00m\u001b[38;5;21;01m.\u001b[39;00m\u001b[38;5;21;01mcore\u001b[39;00m\u001b[38;5;21;01m.\u001b[39;00m\u001b[38;5;21;01mreshape\u001b[39;00m\u001b[38;5;21;01m.\u001b[39;00m\u001b[38;5;21;01mpivot\u001b[39;00m \u001b[38;5;28;01mimport\u001b[39;00m pivot\n\u001b[0;32m-> 7885\u001b[0m     \u001b[38;5;28;01mreturn\u001b[39;00m \u001b[43mpivot\u001b[49m\u001b[43m(\u001b[49m\u001b[38;5;28;43mself\u001b[39;49m\u001b[43m,\u001b[49m\u001b[43m \u001b[49m\u001b[43mindex\u001b[49m\u001b[38;5;241;43m=\u001b[39;49m\u001b[43mindex\u001b[49m\u001b[43m,\u001b[49m\u001b[43m \u001b[49m\u001b[43mcolumns\u001b[49m\u001b[38;5;241;43m=\u001b[39;49m\u001b[43mcolumns\u001b[49m\u001b[43m,\u001b[49m\u001b[43m \u001b[49m\u001b[43mvalues\u001b[49m\u001b[38;5;241;43m=\u001b[39;49m\u001b[43mvalues\u001b[49m\u001b[43m)\u001b[49m\n",
      "File \u001b[0;32m~/opt/anaconda3/lib/python3.9/site-packages/pandas/core/reshape/pivot.py:520\u001b[0m, in \u001b[0;36mpivot\u001b[0;34m(data, index, columns, values)\u001b[0m\n\u001b[1;32m    518\u001b[0m     \u001b[38;5;28;01melse\u001b[39;00m:\n\u001b[1;32m    519\u001b[0m         indexed \u001b[38;5;241m=\u001b[39m data\u001b[38;5;241m.\u001b[39m_constructor_sliced(data[values]\u001b[38;5;241m.\u001b[39m_values, index\u001b[38;5;241m=\u001b[39mmultiindex)\n\u001b[0;32m--> 520\u001b[0m \u001b[38;5;28;01mreturn\u001b[39;00m \u001b[43mindexed\u001b[49m\u001b[38;5;241;43m.\u001b[39;49m\u001b[43munstack\u001b[49m\u001b[43m(\u001b[49m\u001b[43mcolumns_listlike\u001b[49m\u001b[43m)\u001b[49m\n",
      "File \u001b[0;32m~/opt/anaconda3/lib/python3.9/site-packages/pandas/core/series.py:4157\u001b[0m, in \u001b[0;36mSeries.unstack\u001b[0;34m(self, level, fill_value)\u001b[0m\n\u001b[1;32m   4114\u001b[0m \u001b[38;5;124;03m\"\"\"\u001b[39;00m\n\u001b[1;32m   4115\u001b[0m \u001b[38;5;124;03mUnstack, also known as pivot, Series with MultiIndex to produce DataFrame.\u001b[39;00m\n\u001b[1;32m   4116\u001b[0m \n\u001b[0;32m   (...)\u001b[0m\n\u001b[1;32m   4153\u001b[0m \u001b[38;5;124;03mb    2    4\u001b[39;00m\n\u001b[1;32m   4154\u001b[0m \u001b[38;5;124;03m\"\"\"\u001b[39;00m\n\u001b[1;32m   4155\u001b[0m \u001b[38;5;28;01mfrom\u001b[39;00m \u001b[38;5;21;01mpandas\u001b[39;00m\u001b[38;5;21;01m.\u001b[39;00m\u001b[38;5;21;01mcore\u001b[39;00m\u001b[38;5;21;01m.\u001b[39;00m\u001b[38;5;21;01mreshape\u001b[39;00m\u001b[38;5;21;01m.\u001b[39;00m\u001b[38;5;21;01mreshape\u001b[39;00m \u001b[38;5;28;01mimport\u001b[39;00m unstack\n\u001b[0;32m-> 4157\u001b[0m \u001b[38;5;28;01mreturn\u001b[39;00m \u001b[43munstack\u001b[49m\u001b[43m(\u001b[49m\u001b[38;5;28;43mself\u001b[39;49m\u001b[43m,\u001b[49m\u001b[43m \u001b[49m\u001b[43mlevel\u001b[49m\u001b[43m,\u001b[49m\u001b[43m \u001b[49m\u001b[43mfill_value\u001b[49m\u001b[43m)\u001b[49m\n",
      "File \u001b[0;32m~/opt/anaconda3/lib/python3.9/site-packages/pandas/core/reshape/reshape.py:491\u001b[0m, in \u001b[0;36munstack\u001b[0;34m(obj, level, fill_value)\u001b[0m\n\u001b[1;32m    489\u001b[0m \u001b[38;5;28;01mif\u001b[39;00m is_1d_only_ea_dtype(obj\u001b[38;5;241m.\u001b[39mdtype):\n\u001b[1;32m    490\u001b[0m     \u001b[38;5;28;01mreturn\u001b[39;00m _unstack_extension_series(obj, level, fill_value)\n\u001b[0;32m--> 491\u001b[0m unstacker \u001b[38;5;241m=\u001b[39m \u001b[43m_Unstacker\u001b[49m\u001b[43m(\u001b[49m\n\u001b[1;32m    492\u001b[0m \u001b[43m    \u001b[49m\u001b[43mobj\u001b[49m\u001b[38;5;241;43m.\u001b[39;49m\u001b[43mindex\u001b[49m\u001b[43m,\u001b[49m\u001b[43m \u001b[49m\u001b[43mlevel\u001b[49m\u001b[38;5;241;43m=\u001b[39;49m\u001b[43mlevel\u001b[49m\u001b[43m,\u001b[49m\u001b[43m \u001b[49m\u001b[43mconstructor\u001b[49m\u001b[38;5;241;43m=\u001b[39;49m\u001b[43mobj\u001b[49m\u001b[38;5;241;43m.\u001b[39;49m\u001b[43m_constructor_expanddim\u001b[49m\n\u001b[1;32m    493\u001b[0m \u001b[43m\u001b[49m\u001b[43m)\u001b[49m\n\u001b[1;32m    494\u001b[0m \u001b[38;5;28;01mreturn\u001b[39;00m unstacker\u001b[38;5;241m.\u001b[39mget_result(\n\u001b[1;32m    495\u001b[0m     obj\u001b[38;5;241m.\u001b[39m_values, value_columns\u001b[38;5;241m=\u001b[39m\u001b[38;5;28;01mNone\u001b[39;00m, fill_value\u001b[38;5;241m=\u001b[39mfill_value\n\u001b[1;32m    496\u001b[0m )\n",
      "File \u001b[0;32m~/opt/anaconda3/lib/python3.9/site-packages/pandas/core/reshape/reshape.py:140\u001b[0m, in \u001b[0;36m_Unstacker.__init__\u001b[0;34m(self, index, level, constructor)\u001b[0m\n\u001b[1;32m    133\u001b[0m \u001b[38;5;28;01mif\u001b[39;00m num_cells \u001b[38;5;241m>\u001b[39m np\u001b[38;5;241m.\u001b[39miinfo(np\u001b[38;5;241m.\u001b[39mint32)\u001b[38;5;241m.\u001b[39mmax:\n\u001b[1;32m    134\u001b[0m     warnings\u001b[38;5;241m.\u001b[39mwarn(\n\u001b[1;32m    135\u001b[0m         \u001b[38;5;124mf\u001b[39m\u001b[38;5;124m\"\u001b[39m\u001b[38;5;124mThe following operation may generate \u001b[39m\u001b[38;5;132;01m{\u001b[39;00mnum_cells\u001b[38;5;132;01m}\u001b[39;00m\u001b[38;5;124m cells \u001b[39m\u001b[38;5;124m\"\u001b[39m\n\u001b[1;32m    136\u001b[0m         \u001b[38;5;124mf\u001b[39m\u001b[38;5;124m\"\u001b[39m\u001b[38;5;124min the resulting pandas object.\u001b[39m\u001b[38;5;124m\"\u001b[39m,\n\u001b[1;32m    137\u001b[0m         PerformanceWarning,\n\u001b[1;32m    138\u001b[0m     )\n\u001b[0;32m--> 140\u001b[0m \u001b[38;5;28;43mself\u001b[39;49m\u001b[38;5;241;43m.\u001b[39;49m\u001b[43m_make_selectors\u001b[49m\u001b[43m(\u001b[49m\u001b[43m)\u001b[49m\n",
      "File \u001b[0;32m~/opt/anaconda3/lib/python3.9/site-packages/pandas/core/reshape/reshape.py:192\u001b[0m, in \u001b[0;36m_Unstacker._make_selectors\u001b[0;34m(self)\u001b[0m\n\u001b[1;32m    189\u001b[0m mask\u001b[38;5;241m.\u001b[39mput(selector, \u001b[38;5;28;01mTrue\u001b[39;00m)\n\u001b[1;32m    191\u001b[0m \u001b[38;5;28;01mif\u001b[39;00m mask\u001b[38;5;241m.\u001b[39msum() \u001b[38;5;241m<\u001b[39m \u001b[38;5;28mlen\u001b[39m(\u001b[38;5;28mself\u001b[39m\u001b[38;5;241m.\u001b[39mindex):\n\u001b[0;32m--> 192\u001b[0m     \u001b[38;5;28;01mraise\u001b[39;00m \u001b[38;5;167;01mValueError\u001b[39;00m(\u001b[38;5;124m\"\u001b[39m\u001b[38;5;124mIndex contains duplicate entries, cannot reshape\u001b[39m\u001b[38;5;124m\"\u001b[39m)\n\u001b[1;32m    194\u001b[0m \u001b[38;5;28mself\u001b[39m\u001b[38;5;241m.\u001b[39mgroup_index \u001b[38;5;241m=\u001b[39m comp_index\n\u001b[1;32m    195\u001b[0m \u001b[38;5;28mself\u001b[39m\u001b[38;5;241m.\u001b[39mmask \u001b[38;5;241m=\u001b[39m mask\n",
      "\u001b[0;31mValueError\u001b[0m: Index contains duplicate entries, cannot reshape"
     ]
    }
   ],
   "source": [
    "df = df.append({\"Player Year\": \"2020-2021\", \"Name\": \"Cristiano Ronaldo\", \"Team Name\": \"Juventus Football Club\", \"Salary\": 70000000}, ignore_index=True)\n",
    "\n",
    "# Pivot the DataFrame around the player's names for Salary and Team Name\n",
    "pivot_salary = df.pivot(index='Name', columns='Player Year', values='Salary').add_prefix('Salary_')\n",
    "pivot_team = df.pivot(index='Name', columns='Player Year', values='Team Name').add_prefix('Team_')\n",
    "\n",
    "# Concatenate the two dataframes\n",
    "pivot_df = pd.concat([pivot_salary, pivot_team], axis=1)\n",
    "\n",
    "# Replace NaN with 0 or any specific value for salary and 'Unknown' for team\n",
    "pivot_df.loc[:, pivot_df.columns.str.startswith('Salary')] = pivot_df.loc[:, pivot_df.columns.str.startswith('Salary')].fillna(0)\n",
    "pivot_df.loc[:, pivot_df.columns.str.startswith('Team')] = pivot_df.loc[:, pivot_df.columns.str.startswith('Team')].fillna('Unknown')\n",
    "\n",
    "# Show the pivot DataFrame\n",
    "print(pivot_df)"
   ]
  },
  {
   "cell_type": "code",
   "execution_count": 6,
   "id": "5ab7fadb",
   "metadata": {},
   "outputs": [
    {
     "name": "stderr",
     "output_type": "stream",
     "text": [
      "/var/folders/14/lw5tk0f524ggxb917v9jt25m0000gn/T/ipykernel_61308/1248547270.py:1: FutureWarning: The frame.append method is deprecated and will be removed from pandas in a future version. Use pandas.concat instead.\n",
      "  df = df.append({\"Player Year\": \"2022-2023\", \"Name\": \"Neymar\", \"Team Name\": \"PSG\", \"Salary\": 60000000}, ignore_index=True)\n"
     ]
    }
   ],
   "source": [
    "df = df.append({\"Player Year\": \"2022-2023\", \"Name\": \"Neymar\", \"Team Name\": \"PSG\", \"Salary\": 60000000}, ignore_index=True)\n"
   ]
  },
  {
   "cell_type": "code",
   "execution_count": 7,
   "id": "7bc5c71a",
   "metadata": {
    "scrolled": true
   },
   "outputs": [
    {
     "data": {
      "text/html": [
       "<div>\n",
       "<style scoped>\n",
       "    .dataframe tbody tr th:only-of-type {\n",
       "        vertical-align: middle;\n",
       "    }\n",
       "\n",
       "    .dataframe tbody tr th {\n",
       "        vertical-align: top;\n",
       "    }\n",
       "\n",
       "    .dataframe thead th {\n",
       "        text-align: right;\n",
       "    }\n",
       "</style>\n",
       "<table border=\"1\" class=\"dataframe\">\n",
       "  <thead>\n",
       "    <tr style=\"text-align: right;\">\n",
       "      <th></th>\n",
       "      <th>Player Year</th>\n",
       "      <th>Name</th>\n",
       "      <th>Team Name</th>\n",
       "      <th>Salary</th>\n",
       "    </tr>\n",
       "  </thead>\n",
       "  <tbody>\n",
       "    <tr>\n",
       "      <th>0</th>\n",
       "      <td>2020-2021</td>\n",
       "      <td>Lionel Messi</td>\n",
       "      <td>FC Barcelona</td>\n",
       "      <td>92000000</td>\n",
       "    </tr>\n",
       "    <tr>\n",
       "      <th>1</th>\n",
       "      <td>2021-2022</td>\n",
       "      <td>Lionel Messi</td>\n",
       "      <td>PSG</td>\n",
       "      <td>68600000</td>\n",
       "    </tr>\n",
       "    <tr>\n",
       "      <th>2</th>\n",
       "      <td>2021-2022</td>\n",
       "      <td>Neymar</td>\n",
       "      <td>PSG</td>\n",
       "      <td>43470000</td>\n",
       "    </tr>\n",
       "    <tr>\n",
       "      <th>3</th>\n",
       "      <td>2021-2022</td>\n",
       "      <td>Luis Suarez</td>\n",
       "      <td>Athletico Madrid</td>\n",
       "      <td>41200000</td>\n",
       "    </tr>\n",
       "    <tr>\n",
       "      <th>4</th>\n",
       "      <td>2021-2022</td>\n",
       "      <td>Antoine Griezmann</td>\n",
       "      <td>Athletico Madrid</td>\n",
       "      <td>41200000</td>\n",
       "    </tr>\n",
       "    <tr>\n",
       "      <th>5</th>\n",
       "      <td>2021-2022</td>\n",
       "      <td>Gareth Bale</td>\n",
       "      <td>Real Madrid</td>\n",
       "      <td>35800000</td>\n",
       "    </tr>\n",
       "    <tr>\n",
       "      <th>6</th>\n",
       "      <td>2021-2022</td>\n",
       "      <td>Kylian Mbappe</td>\n",
       "      <td>PSG</td>\n",
       "      <td>29400000</td>\n",
       "    </tr>\n",
       "    <tr>\n",
       "      <th>7</th>\n",
       "      <td>2021-2022</td>\n",
       "      <td>Cristiano Ronaldo</td>\n",
       "      <td>Manchester United</td>\n",
       "      <td>29000000</td>\n",
       "    </tr>\n",
       "    <tr>\n",
       "      <th>8</th>\n",
       "      <td>2021-2022</td>\n",
       "      <td>Kevin De Bruyne</td>\n",
       "      <td>Manchester City</td>\n",
       "      <td>27600000</td>\n",
       "    </tr>\n",
       "    <tr>\n",
       "      <th>9</th>\n",
       "      <td>2021-2022</td>\n",
       "      <td>David De Gea</td>\n",
       "      <td>Manchester United</td>\n",
       "      <td>26800000</td>\n",
       "    </tr>\n",
       "    <tr>\n",
       "      <th>10</th>\n",
       "      <td>2021-2022</td>\n",
       "      <td>Robert Lewandowski</td>\n",
       "      <td>Bayern Munich</td>\n",
       "      <td>25100000</td>\n",
       "    </tr>\n",
       "    <tr>\n",
       "      <th>11</th>\n",
       "      <td>2022-2023</td>\n",
       "      <td>Kylian Mbappe</td>\n",
       "      <td>PSG</td>\n",
       "      <td>128000000</td>\n",
       "    </tr>\n",
       "    <tr>\n",
       "      <th>12</th>\n",
       "      <td>2022-2023</td>\n",
       "      <td>Lionel Messi</td>\n",
       "      <td>PSG</td>\n",
       "      <td>110000000</td>\n",
       "    </tr>\n",
       "    <tr>\n",
       "      <th>13</th>\n",
       "      <td>2020-2021</td>\n",
       "      <td>Cristiano Ronaldo</td>\n",
       "      <td>Juventus Football Club</td>\n",
       "      <td>70000000</td>\n",
       "    </tr>\n",
       "    <tr>\n",
       "      <th>14</th>\n",
       "      <td>2022-2023</td>\n",
       "      <td>Neymar</td>\n",
       "      <td>PSG</td>\n",
       "      <td>60000000</td>\n",
       "    </tr>\n",
       "  </tbody>\n",
       "</table>\n",
       "</div>"
      ],
      "text/plain": [
       "   Player Year                Name               Team Name     Salary\n",
       "0    2020-2021        Lionel Messi            FC Barcelona   92000000\n",
       "1    2021-2022        Lionel Messi                     PSG   68600000\n",
       "2    2021-2022              Neymar                     PSG   43470000\n",
       "3    2021-2022         Luis Suarez        Athletico Madrid   41200000\n",
       "4    2021-2022   Antoine Griezmann        Athletico Madrid   41200000\n",
       "5    2021-2022         Gareth Bale             Real Madrid   35800000\n",
       "6    2021-2022       Kylian Mbappe                     PSG   29400000\n",
       "7    2021-2022   Cristiano Ronaldo       Manchester United   29000000\n",
       "8    2021-2022     Kevin De Bruyne         Manchester City   27600000\n",
       "9    2021-2022        David De Gea       Manchester United   26800000\n",
       "10   2021-2022  Robert Lewandowski           Bayern Munich   25100000\n",
       "11   2022-2023       Kylian Mbappe                     PSG  128000000\n",
       "12   2022-2023        Lionel Messi                     PSG  110000000\n",
       "13   2020-2021   Cristiano Ronaldo  Juventus Football Club   70000000\n",
       "14   2022-2023              Neymar                     PSG   60000000"
      ]
     },
     "execution_count": 7,
     "metadata": {},
     "output_type": "execute_result"
    }
   ],
   "source": [
    "df"
   ]
  },
  {
   "cell_type": "code",
   "execution_count": 13,
   "id": "84f17a3e",
   "metadata": {},
   "outputs": [
    {
     "name": "stdout",
     "output_type": "stream",
     "text": [
      "Data for 2020-2021 Season:\n",
      "  Player Year          Name     Team Name    Salary\n",
      "0   2020-2021  Lionel Messi  FC Barcelona  92000000\n",
      "\n",
      "Data for 2021-2022 Season:\n",
      "   Player Year                Name          Team Name    Salary\n",
      "1    2021-2022        Lionel Messi                PSG  68600000\n",
      "2    2021-2022              Neymar                PSG  43470000\n",
      "3    2021-2022         Luis Suarez   Athletico Madrid  41200000\n",
      "4    2021-2022   Antoine Griezmann   Athletico Madrid  41200000\n",
      "5    2021-2022         Gareth Bale        Real Madrid  35800000\n",
      "6    2021-2022       Kylian Mbappe                PSG  29400000\n",
      "7    2021-2022   Cristiano Ronaldo  Manchester United  29000000\n",
      "8    2021-2022     Kevin De Bruyne    Manchester City  27600000\n",
      "9    2021-2022        David De Gea  Manchester United  26800000\n",
      "10   2021-2022  Robert Lewandowski      Bayern Munich  25100000\n",
      "\n",
      "Data for 2022-2023 Season:\n",
      "   Player Year           Name Team Name     Salary\n",
      "11   2022-2023         Neymar       PSG   60000000\n",
      "12   2022-2023  Kylian Mbappe       PSG  128000000\n",
      "13   2022-2023   Lionel Messi       PSG  110000000\n"
     ]
    }
   ],
   "source": [
    "# Filter the dataframe for each season\n",
    "df_2020_2021 = df[df['Player Year'] == '2020-2021']\n",
    "df_2021_2022 = df[df['Player Year'] == '2021-2022']\n",
    "df_2022_2023 = df[df['Player Year'] == '2022-2023']\n",
    "\n",
    "# Print each dataframe\n",
    "print(\"Data for 2020-2021 Season:\")\n",
    "print(df_2020_2021)\n",
    "print(\"\\nData for 2021-2022 Season:\")\n",
    "print(df_2021_2022)\n",
    "print(\"\\nData for 2022-2023 Season:\")\n",
    "print(df_2022_2023)\n"
   ]
  },
  {
   "cell_type": "code",
   "execution_count": null,
   "id": "dfad3076",
   "metadata": {},
   "outputs": [],
   "source": []
  },
  {
   "cell_type": "code",
   "execution_count": null,
   "id": "7b2a0a37",
   "metadata": {},
   "outputs": [],
   "source": []
  },
  {
   "cell_type": "code",
   "execution_count": 10,
   "id": "10a651cc",
   "metadata": {},
   "outputs": [
    {
     "name": "stdout",
     "output_type": "stream",
     "text": [
      "club_buy - Google Sheets.html  gulf_sports.ipynb\r\n"
     ]
    }
   ],
   "source": [
    "ls\n"
   ]
  },
  {
   "cell_type": "code",
   "execution_count": null,
   "id": "baba2f85",
   "metadata": {},
   "outputs": [],
   "source": [
    "import pandas as pd\n",
    "buy_df = pd.DataFrame(, columns=watermelon_headers)\n",
    "watermelon_df.head() "
   ]
  },
  {
   "cell_type": "code",
   "execution_count": 12,
   "id": "97491de2",
   "metadata": {},
   "outputs": [
    {
     "data": {
      "text/html": [
       "<div>\n",
       "<style scoped>\n",
       "    .dataframe tbody tr th:only-of-type {\n",
       "        vertical-align: middle;\n",
       "    }\n",
       "\n",
       "    .dataframe tbody tr th {\n",
       "        vertical-align: top;\n",
       "    }\n",
       "\n",
       "    .dataframe thead th {\n",
       "        text-align: right;\n",
       "    }\n",
       "</style>\n",
       "<table border=\"1\" class=\"dataframe\">\n",
       "  <thead>\n",
       "    <tr style=\"text-align: right;\">\n",
       "      <th></th>\n",
       "      <th>club name</th>\n",
       "      <th>country</th>\n",
       "      <th>league</th>\n",
       "      <th>purchase date</th>\n",
       "      <th>purchase amount</th>\n",
       "      <th>current value</th>\n",
       "      <th>acquirer</th>\n",
       "    </tr>\n",
       "  </thead>\n",
       "  <tbody>\n",
       "    <tr>\n",
       "      <th>0</th>\n",
       "      <td>FC Malaga</td>\n",
       "      <td>Spain</td>\n",
       "      <td>La Liga</td>\n",
       "      <td>2010</td>\n",
       "      <td>$48m</td>\n",
       "      <td>NaN</td>\n",
       "      <td>Qatar</td>\n",
       "    </tr>\n",
       "    <tr>\n",
       "      <th>1</th>\n",
       "      <td>PSG</td>\n",
       "      <td>France</td>\n",
       "      <td>NaN</td>\n",
       "      <td>2011</td>\n",
       "      <td>70m euros</td>\n",
       "      <td>NaN</td>\n",
       "      <td>Qatar</td>\n",
       "    </tr>\n",
       "    <tr>\n",
       "      <th>2</th>\n",
       "      <td>Manchester City</td>\n",
       "      <td>UK</td>\n",
       "      <td>English Premier League</td>\n",
       "      <td>2008</td>\n",
       "      <td>200m GBP</td>\n",
       "      <td>NaN</td>\n",
       "      <td>Abu Dhabi</td>\n",
       "    </tr>\n",
       "  </tbody>\n",
       "</table>\n",
       "</div>"
      ],
      "text/plain": [
       "         club name country                  league  purchase date  \\\n",
       "0        FC Malaga   Spain                 La Liga           2010   \n",
       "1              PSG  France                     NaN           2011   \n",
       "2  Manchester City      UK  English Premier League           2008   \n",
       "\n",
       "  purchase amount  current value   acquirer  \n",
       "0            $48m            NaN      Qatar  \n",
       "1       70m euros            NaN      Qatar  \n",
       "2        200m GBP            NaN  Abu Dhabi  "
      ]
     },
     "execution_count": 12,
     "metadata": {},
     "output_type": "execute_result"
    }
   ],
   "source": [
    "buy_df = pd.read_csv(\"./club_buy.csv\")\n",
    "buy_df"
   ]
  },
  {
   "cell_type": "code",
   "execution_count": 14,
   "id": "92297256",
   "metadata": {},
   "outputs": [
    {
     "ename": "ConversionError",
     "evalue": "Failed to convert value(s) to axis units: 0    June 2022\n1     Jan 2023\n2    June 2023\n3    June 2023\n4    July 2023\nName: date, dtype: object",
     "output_type": "error",
     "traceback": [
      "\u001b[0;31m---------------------------------------------------------------------------\u001b[0m",
      "\u001b[0;31mValueError\u001b[0m                                Traceback (most recent call last)",
      "File \u001b[0;32m~/opt/anaconda3/lib/python3.9/site-packages/matplotlib/axis.py:1506\u001b[0m, in \u001b[0;36mAxis.convert_units\u001b[0;34m(self, x)\u001b[0m\n\u001b[1;32m   1505\u001b[0m \u001b[38;5;28;01mtry\u001b[39;00m:\n\u001b[0;32m-> 1506\u001b[0m     ret \u001b[38;5;241m=\u001b[39m \u001b[38;5;28;43mself\u001b[39;49m\u001b[38;5;241;43m.\u001b[39;49m\u001b[43mconverter\u001b[49m\u001b[38;5;241;43m.\u001b[39;49m\u001b[43mconvert\u001b[49m\u001b[43m(\u001b[49m\u001b[43mx\u001b[49m\u001b[43m,\u001b[49m\u001b[43m \u001b[49m\u001b[38;5;28;43mself\u001b[39;49m\u001b[38;5;241;43m.\u001b[39;49m\u001b[43munits\u001b[49m\u001b[43m,\u001b[49m\u001b[43m \u001b[49m\u001b[38;5;28;43mself\u001b[39;49m\u001b[43m)\u001b[49m\n\u001b[1;32m   1507\u001b[0m \u001b[38;5;28;01mexcept\u001b[39;00m \u001b[38;5;167;01mException\u001b[39;00m \u001b[38;5;28;01mas\u001b[39;00m e:\n",
      "File \u001b[0;32m~/opt/anaconda3/lib/python3.9/site-packages/matplotlib/category.py:49\u001b[0m, in \u001b[0;36mStrCategoryConverter.convert\u001b[0;34m(value, unit, axis)\u001b[0m\n\u001b[1;32m     48\u001b[0m \u001b[38;5;28;01mif\u001b[39;00m unit \u001b[38;5;129;01mis\u001b[39;00m \u001b[38;5;28;01mNone\u001b[39;00m:\n\u001b[0;32m---> 49\u001b[0m     \u001b[38;5;28;01mraise\u001b[39;00m \u001b[38;5;167;01mValueError\u001b[39;00m(\n\u001b[1;32m     50\u001b[0m         \u001b[38;5;124m'\u001b[39m\u001b[38;5;124mMissing category information for StrCategoryConverter; \u001b[39m\u001b[38;5;124m'\u001b[39m\n\u001b[1;32m     51\u001b[0m         \u001b[38;5;124m'\u001b[39m\u001b[38;5;124mthis might be caused by unintendedly mixing categorical and \u001b[39m\u001b[38;5;124m'\u001b[39m\n\u001b[1;32m     52\u001b[0m         \u001b[38;5;124m'\u001b[39m\u001b[38;5;124mnumeric data\u001b[39m\u001b[38;5;124m'\u001b[39m)\n\u001b[1;32m     53\u001b[0m StrCategoryConverter\u001b[38;5;241m.\u001b[39m_validate_unit(unit)\n",
      "\u001b[0;31mValueError\u001b[0m: Missing category information for StrCategoryConverter; this might be caused by unintendedly mixing categorical and numeric data",
      "\nThe above exception was the direct cause of the following exception:\n",
      "\u001b[0;31mConversionError\u001b[0m                           Traceback (most recent call last)",
      "Input \u001b[0;32mIn [14]\u001b[0m, in \u001b[0;36m<cell line: 23>\u001b[0;34m()\u001b[0m\n\u001b[1;32m     21\u001b[0m \u001b[38;5;66;03m# Set the x-axis to the \"date\" column\u001b[39;00m\n\u001b[1;32m     22\u001b[0m plt\u001b[38;5;241m.\u001b[39mxlabel(\u001b[38;5;124m\"\u001b[39m\u001b[38;5;124mDate\u001b[39m\u001b[38;5;124m\"\u001b[39m)\n\u001b[0;32m---> 23\u001b[0m \u001b[43mplt\u001b[49m\u001b[38;5;241;43m.\u001b[39;49m\u001b[43mxticks\u001b[49m\u001b[43m(\u001b[49m\u001b[43mdf\u001b[49m\u001b[43m[\u001b[49m\u001b[38;5;124;43m\"\u001b[39;49m\u001b[38;5;124;43mdate\u001b[39;49m\u001b[38;5;124;43m\"\u001b[39;49m\u001b[43m]\u001b[49m\u001b[43m,\u001b[49m\u001b[43m \u001b[49m\u001b[43mrotation\u001b[49m\u001b[38;5;241;43m=\u001b[39;49m\u001b[38;5;241;43m45\u001b[39;49m\u001b[43m)\u001b[49m\n\u001b[1;32m     25\u001b[0m \u001b[38;5;66;03m# Set the y-axis to the \"price raw\" column\u001b[39;00m\n\u001b[1;32m     26\u001b[0m plt\u001b[38;5;241m.\u001b[39mylabel(\u001b[38;5;124m\"\u001b[39m\u001b[38;5;124mPrice raw\u001b[39m\u001b[38;5;124m\"\u001b[39m)\n",
      "File \u001b[0;32m~/opt/anaconda3/lib/python3.9/site-packages/matplotlib/pyplot.py:1809\u001b[0m, in \u001b[0;36mxticks\u001b[0;34m(ticks, labels, **kwargs)\u001b[0m\n\u001b[1;32m   1806\u001b[0m         \u001b[38;5;28;01mraise\u001b[39;00m \u001b[38;5;167;01mTypeError\u001b[39;00m(\u001b[38;5;124m\"\u001b[39m\u001b[38;5;124mxticks(): Parameter \u001b[39m\u001b[38;5;124m'\u001b[39m\u001b[38;5;124mlabels\u001b[39m\u001b[38;5;124m'\u001b[39m\u001b[38;5;124m can\u001b[39m\u001b[38;5;124m'\u001b[39m\u001b[38;5;124mt be set \u001b[39m\u001b[38;5;124m\"\u001b[39m\n\u001b[1;32m   1807\u001b[0m                         \u001b[38;5;124m\"\u001b[39m\u001b[38;5;124mwithout setting \u001b[39m\u001b[38;5;124m'\u001b[39m\u001b[38;5;124mticks\u001b[39m\u001b[38;5;124m'\u001b[39m\u001b[38;5;124m\"\u001b[39m)\n\u001b[1;32m   1808\u001b[0m \u001b[38;5;28;01melse\u001b[39;00m:\n\u001b[0;32m-> 1809\u001b[0m     locs \u001b[38;5;241m=\u001b[39m \u001b[43max\u001b[49m\u001b[38;5;241;43m.\u001b[39;49m\u001b[43mset_xticks\u001b[49m\u001b[43m(\u001b[49m\u001b[43mticks\u001b[49m\u001b[43m)\u001b[49m\n\u001b[1;32m   1811\u001b[0m \u001b[38;5;28;01mif\u001b[39;00m labels \u001b[38;5;129;01mis\u001b[39;00m \u001b[38;5;28;01mNone\u001b[39;00m:\n\u001b[1;32m   1812\u001b[0m     labels \u001b[38;5;241m=\u001b[39m ax\u001b[38;5;241m.\u001b[39mget_xticklabels()\n",
      "File \u001b[0;32m~/opt/anaconda3/lib/python3.9/site-packages/matplotlib/axes/_base.py:75\u001b[0m, in \u001b[0;36m_axis_method_wrapper.__set_name__.<locals>.wrapper\u001b[0;34m(self, *args, **kwargs)\u001b[0m\n\u001b[1;32m     74\u001b[0m \u001b[38;5;28;01mdef\u001b[39;00m \u001b[38;5;21mwrapper\u001b[39m(\u001b[38;5;28mself\u001b[39m, \u001b[38;5;241m*\u001b[39margs, \u001b[38;5;241m*\u001b[39m\u001b[38;5;241m*\u001b[39mkwargs):\n\u001b[0;32m---> 75\u001b[0m     \u001b[38;5;28;01mreturn\u001b[39;00m \u001b[43mget_method\u001b[49m\u001b[43m(\u001b[49m\u001b[38;5;28;43mself\u001b[39;49m\u001b[43m)\u001b[49m\u001b[43m(\u001b[49m\u001b[38;5;241;43m*\u001b[39;49m\u001b[43margs\u001b[49m\u001b[43m,\u001b[49m\u001b[43m \u001b[49m\u001b[38;5;241;43m*\u001b[39;49m\u001b[38;5;241;43m*\u001b[39;49m\u001b[43mkwargs\u001b[49m\u001b[43m)\u001b[49m\n",
      "File \u001b[0;32m~/opt/anaconda3/lib/python3.9/site-packages/matplotlib/axis.py:1855\u001b[0m, in \u001b[0;36mAxis.set_ticks\u001b[0;34m(self, ticks, labels, minor, **kwargs)\u001b[0m\n\u001b[1;32m   1829\u001b[0m \u001b[38;5;28;01mdef\u001b[39;00m \u001b[38;5;21mset_ticks\u001b[39m(\u001b[38;5;28mself\u001b[39m, ticks, labels\u001b[38;5;241m=\u001b[39m\u001b[38;5;28;01mNone\u001b[39;00m, \u001b[38;5;241m*\u001b[39m, minor\u001b[38;5;241m=\u001b[39m\u001b[38;5;28;01mFalse\u001b[39;00m, \u001b[38;5;241m*\u001b[39m\u001b[38;5;241m*\u001b[39mkwargs):\n\u001b[1;32m   1830\u001b[0m     \u001b[38;5;124;03m\"\"\"\u001b[39;00m\n\u001b[1;32m   1831\u001b[0m \u001b[38;5;124;03m    Set this Axis' tick locations and optionally labels.\u001b[39;00m\n\u001b[1;32m   1832\u001b[0m \n\u001b[0;32m   (...)\u001b[0m\n\u001b[1;32m   1853\u001b[0m \u001b[38;5;124;03m    ticks.\u001b[39;00m\n\u001b[1;32m   1854\u001b[0m \u001b[38;5;124;03m    \"\"\"\u001b[39;00m\n\u001b[0;32m-> 1855\u001b[0m     result \u001b[38;5;241m=\u001b[39m \u001b[38;5;28;43mself\u001b[39;49m\u001b[38;5;241;43m.\u001b[39;49m\u001b[43m_set_tick_locations\u001b[49m\u001b[43m(\u001b[49m\u001b[43mticks\u001b[49m\u001b[43m,\u001b[49m\u001b[43m \u001b[49m\u001b[43mminor\u001b[49m\u001b[38;5;241;43m=\u001b[39;49m\u001b[43mminor\u001b[49m\u001b[43m)\u001b[49m\n\u001b[1;32m   1856\u001b[0m     \u001b[38;5;28;01mif\u001b[39;00m labels \u001b[38;5;129;01mis\u001b[39;00m \u001b[38;5;129;01mnot\u001b[39;00m \u001b[38;5;28;01mNone\u001b[39;00m:\n\u001b[1;32m   1857\u001b[0m         \u001b[38;5;28mself\u001b[39m\u001b[38;5;241m.\u001b[39mset_ticklabels(labels, minor\u001b[38;5;241m=\u001b[39mminor, \u001b[38;5;241m*\u001b[39m\u001b[38;5;241m*\u001b[39mkwargs)\n",
      "File \u001b[0;32m~/opt/anaconda3/lib/python3.9/site-packages/matplotlib/axis.py:1804\u001b[0m, in \u001b[0;36mAxis._set_tick_locations\u001b[0;34m(self, ticks, minor)\u001b[0m\n\u001b[1;32m   1800\u001b[0m \u001b[38;5;28;01mdef\u001b[39;00m \u001b[38;5;21m_set_tick_locations\u001b[39m(\u001b[38;5;28mself\u001b[39m, ticks, \u001b[38;5;241m*\u001b[39m, minor\u001b[38;5;241m=\u001b[39m\u001b[38;5;28;01mFalse\u001b[39;00m):\n\u001b[1;32m   1801\u001b[0m     \u001b[38;5;66;03m# see docstring of set_ticks\u001b[39;00m\n\u001b[1;32m   1802\u001b[0m \n\u001b[1;32m   1803\u001b[0m     \u001b[38;5;66;03m# XXX if the user changes units, the information will be lost here\u001b[39;00m\n\u001b[0;32m-> 1804\u001b[0m     ticks \u001b[38;5;241m=\u001b[39m \u001b[38;5;28;43mself\u001b[39;49m\u001b[38;5;241;43m.\u001b[39;49m\u001b[43mconvert_units\u001b[49m\u001b[43m(\u001b[49m\u001b[43mticks\u001b[49m\u001b[43m)\u001b[49m\n\u001b[1;32m   1805\u001b[0m     \u001b[38;5;28;01mfor\u001b[39;00m name, axis \u001b[38;5;129;01min\u001b[39;00m \u001b[38;5;28mself\u001b[39m\u001b[38;5;241m.\u001b[39maxes\u001b[38;5;241m.\u001b[39m_get_axis_map()\u001b[38;5;241m.\u001b[39mitems():\n\u001b[1;32m   1806\u001b[0m         \u001b[38;5;28;01mif\u001b[39;00m \u001b[38;5;28mself\u001b[39m \u001b[38;5;129;01mis\u001b[39;00m axis:\n",
      "File \u001b[0;32m~/opt/anaconda3/lib/python3.9/site-packages/matplotlib/axis.py:1508\u001b[0m, in \u001b[0;36mAxis.convert_units\u001b[0;34m(self, x)\u001b[0m\n\u001b[1;32m   1506\u001b[0m     ret \u001b[38;5;241m=\u001b[39m \u001b[38;5;28mself\u001b[39m\u001b[38;5;241m.\u001b[39mconverter\u001b[38;5;241m.\u001b[39mconvert(x, \u001b[38;5;28mself\u001b[39m\u001b[38;5;241m.\u001b[39munits, \u001b[38;5;28mself\u001b[39m)\n\u001b[1;32m   1507\u001b[0m \u001b[38;5;28;01mexcept\u001b[39;00m \u001b[38;5;167;01mException\u001b[39;00m \u001b[38;5;28;01mas\u001b[39;00m e:\n\u001b[0;32m-> 1508\u001b[0m     \u001b[38;5;28;01mraise\u001b[39;00m munits\u001b[38;5;241m.\u001b[39mConversionError(\u001b[38;5;124m'\u001b[39m\u001b[38;5;124mFailed to convert value(s) to axis \u001b[39m\u001b[38;5;124m'\u001b[39m\n\u001b[1;32m   1509\u001b[0m                                  \u001b[38;5;124mf\u001b[39m\u001b[38;5;124m'\u001b[39m\u001b[38;5;124munits: \u001b[39m\u001b[38;5;132;01m{\u001b[39;00mx\u001b[38;5;132;01m!r}\u001b[39;00m\u001b[38;5;124m'\u001b[39m) \u001b[38;5;28;01mfrom\u001b[39;00m \u001b[38;5;21;01me\u001b[39;00m\n\u001b[1;32m   1510\u001b[0m \u001b[38;5;28;01mreturn\u001b[39;00m ret\n",
      "\u001b[0;31mConversionError\u001b[0m: Failed to convert value(s) to axis units: 0    June 2022\n1     Jan 2023\n2    June 2023\n3    June 2023\n4    July 2023\nName: date, dtype: object"
     ]
    },
    {
     "data": {
      "image/png": "[encoded data removed]",
      "text/plain": [
       "<Figure size 640x480 with 1 Axes>"
      ]
     },
     "metadata": {},
     "output_type": "display_data"
    }
   ],
   "source": [
    "import pandas as pd\n",
    "import matplotlib.pyplot as plt\n",
    "\n",
    "# Create a Pandas DataFrame\n",
    "df = pd.DataFrame({\n",
    "    \"Country\": [\"Saudi Arabia\", \"Saudi Arabia\", \"Qatar\", \"Saudi Arabia\", \"Saudi Arabia\"],\n",
    "    \"Nominal bidder\": [\"Public investment Fund\", \"Public investment Fund\", \"Sheikh Jassim bin Hamad al-Thani\", \"Public investment Fund\", \"Public investment Fund\"],\n",
    "    \"Investor\": [\"650,000,000,000\", \"650000000000\", \"475000000000\", \"650000000000\", \"650000000000\"],\n",
    "    \"readable AUM\": [\"$650 billion AUM\", \"$650 billion AUM\", \"$475 billion\", \"$650 billion AUM\", \"$650 billion AUM\"],\n",
    "    \"Category\": [\"Golf\", \"Motorsports\", \"Football\", \"Tennis\", \"Golf\"],\n",
    "    \"Target/Entity\": [\"LIV\", \"Formula1\", \"Manchester United\", \"ATP\", \"PGA\"],\n",
    "    \"date\": [\"June 2022\", \"Jan 2023\", \"June 2023\", \"June 2023\", \"July 2023\"],\n",
    "    \"price, raw\": [2000000000, 20000000000, 6300000000, 150000000, 2000000000],\n",
    "    \"price paid/offered\": [\"$2 billion (reported)\", \"$20 billion\", \"$6.3 billion (£5 billion incl £1 billion debt) (reported)\", \"$150 million league value\", \"$2 billion (reported)\"],\n",
    "    \"overall value\": [\"\", \"\", \"$6 billion\", \"$250 million (FT)\", \"$485 million\"],\n",
    "    \"stake\": [\"\", \"\", \"\", \"\", \"10% ($48.5million)\"],\n",
    "    \"status\": [\"created\", \"rejected\", \"proposed\", \"ongoing\", \"proposed/subject to regulatory approval\"],\n",
    "    \"Location\": [\"USA, Europe, Singapore, Australia, Mexico, Saudi Arabia\", \"Europe, Gulf, USA, Mexico, Brazil, Australia, Singapore, Japan, Azerbaijan\", \"UK, Premier League\", \"USA, Canada, Mexico, Europe, Kazakhstan, Japan, Australia, China, Israel\", \"USA, Mexico, Japan, UK\"]\n",
    "})\n",
    "\n",
    "# Set the x-axis to the \"date\" column\n",
    "plt.xlabel(\"Date\")\n",
    "plt.xticks(df[\"date\"], rotation=45)\n",
    "\n",
    "# Set the y-axis to the \"price raw\" column\n",
    "plt.ylabel(\"Price raw\")\n",
    "\n",
    "# Color the bars by the \"Category\" column\n",
    "plt.bar(df[\"date\"], df[\"price, raw\"], color=df[\"Category\"])\n",
    "\n",
    "# Show the legend\n",
    "plt.legend()\n",
    "\n",
    "# Show the plot\n",
    "plt.show()"
   ]
  },
  {
   "cell_type": "code",
   "execution_count": 15,
   "id": "8a4774d7",
   "metadata": {},
   "outputs": [
    {
     "ename": "ValueError",
     "evalue": "Invalid RGBA argument: 'Golf'",
     "output_type": "error",
     "traceback": [
      "\u001b[0;31m---------------------------------------------------------------------------\u001b[0m",
      "\u001b[0;31mValueError\u001b[0m                                Traceback (most recent call last)",
      "Input \u001b[0;32mIn [15]\u001b[0m, in \u001b[0;36m<cell line: 29>\u001b[0;34m()\u001b[0m\n\u001b[1;32m     26\u001b[0m plt\u001b[38;5;241m.\u001b[39mylabel(\u001b[38;5;124m\"\u001b[39m\u001b[38;5;124mPrice raw\u001b[39m\u001b[38;5;124m\"\u001b[39m)\n\u001b[1;32m     28\u001b[0m \u001b[38;5;66;03m# Color the bars by the \"Category\" column\u001b[39;00m\n\u001b[0;32m---> 29\u001b[0m \u001b[43mplt\u001b[49m\u001b[38;5;241;43m.\u001b[39;49m\u001b[43mbar\u001b[49m\u001b[43m(\u001b[49m\u001b[43mdf\u001b[49m\u001b[43m[\u001b[49m\u001b[38;5;124;43m\"\u001b[39;49m\u001b[38;5;124;43mdate\u001b[39;49m\u001b[38;5;124;43m\"\u001b[39;49m\u001b[43m]\u001b[49m\u001b[43m,\u001b[49m\u001b[43m \u001b[49m\u001b[43mdf\u001b[49m\u001b[43m[\u001b[49m\u001b[38;5;124;43m\"\u001b[39;49m\u001b[38;5;124;43mprice, raw\u001b[39;49m\u001b[38;5;124;43m\"\u001b[39;49m\u001b[43m]\u001b[49m\u001b[43m,\u001b[49m\u001b[43m \u001b[49m\u001b[43mcolor\u001b[49m\u001b[38;5;241;43m=\u001b[39;49m\u001b[43mdf\u001b[49m\u001b[43m[\u001b[49m\u001b[38;5;124;43m\"\u001b[39;49m\u001b[38;5;124;43mCategory\u001b[39;49m\u001b[38;5;124;43m\"\u001b[39;49m\u001b[43m]\u001b[49m\u001b[43m)\u001b[49m\n\u001b[1;32m     31\u001b[0m \u001b[38;5;66;03m# Show the legend\u001b[39;00m\n\u001b[1;32m     32\u001b[0m plt\u001b[38;5;241m.\u001b[39mlegend()\n",
      "File \u001b[0;32m~/opt/anaconda3/lib/python3.9/site-packages/matplotlib/pyplot.py:2399\u001b[0m, in \u001b[0;36mbar\u001b[0;34m(x, height, width, bottom, align, data, **kwargs)\u001b[0m\n\u001b[1;32m   2395\u001b[0m \u001b[38;5;129m@_copy_docstring_and_deprecators\u001b[39m(Axes\u001b[38;5;241m.\u001b[39mbar)\n\u001b[1;32m   2396\u001b[0m \u001b[38;5;28;01mdef\u001b[39;00m \u001b[38;5;21mbar\u001b[39m(\n\u001b[1;32m   2397\u001b[0m         x, height, width\u001b[38;5;241m=\u001b[39m\u001b[38;5;241m0.8\u001b[39m, bottom\u001b[38;5;241m=\u001b[39m\u001b[38;5;28;01mNone\u001b[39;00m, \u001b[38;5;241m*\u001b[39m, align\u001b[38;5;241m=\u001b[39m\u001b[38;5;124m'\u001b[39m\u001b[38;5;124mcenter\u001b[39m\u001b[38;5;124m'\u001b[39m,\n\u001b[1;32m   2398\u001b[0m         data\u001b[38;5;241m=\u001b[39m\u001b[38;5;28;01mNone\u001b[39;00m, \u001b[38;5;241m*\u001b[39m\u001b[38;5;241m*\u001b[39mkwargs):\n\u001b[0;32m-> 2399\u001b[0m     \u001b[38;5;28;01mreturn\u001b[39;00m \u001b[43mgca\u001b[49m\u001b[43m(\u001b[49m\u001b[43m)\u001b[49m\u001b[38;5;241;43m.\u001b[39;49m\u001b[43mbar\u001b[49m\u001b[43m(\u001b[49m\n\u001b[1;32m   2400\u001b[0m \u001b[43m        \u001b[49m\u001b[43mx\u001b[49m\u001b[43m,\u001b[49m\u001b[43m \u001b[49m\u001b[43mheight\u001b[49m\u001b[43m,\u001b[49m\u001b[43m \u001b[49m\u001b[43mwidth\u001b[49m\u001b[38;5;241;43m=\u001b[39;49m\u001b[43mwidth\u001b[49m\u001b[43m,\u001b[49m\u001b[43m \u001b[49m\u001b[43mbottom\u001b[49m\u001b[38;5;241;43m=\u001b[39;49m\u001b[43mbottom\u001b[49m\u001b[43m,\u001b[49m\u001b[43m \u001b[49m\u001b[43malign\u001b[49m\u001b[38;5;241;43m=\u001b[39;49m\u001b[43malign\u001b[49m\u001b[43m,\u001b[49m\n\u001b[1;32m   2401\u001b[0m \u001b[43m        \u001b[49m\u001b[38;5;241;43m*\u001b[39;49m\u001b[38;5;241;43m*\u001b[39;49m\u001b[43m(\u001b[49m\u001b[43m{\u001b[49m\u001b[38;5;124;43m\"\u001b[39;49m\u001b[38;5;124;43mdata\u001b[39;49m\u001b[38;5;124;43m\"\u001b[39;49m\u001b[43m:\u001b[49m\u001b[43m \u001b[49m\u001b[43mdata\u001b[49m\u001b[43m}\u001b[49m\u001b[43m \u001b[49m\u001b[38;5;28;43;01mif\u001b[39;49;00m\u001b[43m \u001b[49m\u001b[43mdata\u001b[49m\u001b[43m \u001b[49m\u001b[38;5;129;43;01mis\u001b[39;49;00m\u001b[43m \u001b[49m\u001b[38;5;129;43;01mnot\u001b[39;49;00m\u001b[43m \u001b[49m\u001b[38;5;28;43;01mNone\u001b[39;49;00m\u001b[43m \u001b[49m\u001b[38;5;28;43;01melse\u001b[39;49;00m\u001b[43m \u001b[49m\u001b[43m{\u001b[49m\u001b[43m}\u001b[49m\u001b[43m)\u001b[49m\u001b[43m,\u001b[49m\u001b[43m \u001b[49m\u001b[38;5;241;43m*\u001b[39;49m\u001b[38;5;241;43m*\u001b[39;49m\u001b[43mkwargs\u001b[49m\u001b[43m)\u001b[49m\n",
      "File \u001b[0;32m~/opt/anaconda3/lib/python3.9/site-packages/matplotlib/__init__.py:1412\u001b[0m, in \u001b[0;36m_preprocess_data.<locals>.inner\u001b[0;34m(ax, data, *args, **kwargs)\u001b[0m\n\u001b[1;32m   1409\u001b[0m \u001b[38;5;129m@functools\u001b[39m\u001b[38;5;241m.\u001b[39mwraps(func)\n\u001b[1;32m   1410\u001b[0m \u001b[38;5;28;01mdef\u001b[39;00m \u001b[38;5;21minner\u001b[39m(ax, \u001b[38;5;241m*\u001b[39margs, data\u001b[38;5;241m=\u001b[39m\u001b[38;5;28;01mNone\u001b[39;00m, \u001b[38;5;241m*\u001b[39m\u001b[38;5;241m*\u001b[39mkwargs):\n\u001b[1;32m   1411\u001b[0m     \u001b[38;5;28;01mif\u001b[39;00m data \u001b[38;5;129;01mis\u001b[39;00m \u001b[38;5;28;01mNone\u001b[39;00m:\n\u001b[0;32m-> 1412\u001b[0m         \u001b[38;5;28;01mreturn\u001b[39;00m \u001b[43mfunc\u001b[49m\u001b[43m(\u001b[49m\u001b[43max\u001b[49m\u001b[43m,\u001b[49m\u001b[43m \u001b[49m\u001b[38;5;241;43m*\u001b[39;49m\u001b[38;5;28;43mmap\u001b[39;49m\u001b[43m(\u001b[49m\u001b[43msanitize_sequence\u001b[49m\u001b[43m,\u001b[49m\u001b[43m \u001b[49m\u001b[43margs\u001b[49m\u001b[43m)\u001b[49m\u001b[43m,\u001b[49m\u001b[43m \u001b[49m\u001b[38;5;241;43m*\u001b[39;49m\u001b[38;5;241;43m*\u001b[39;49m\u001b[43mkwargs\u001b[49m\u001b[43m)\u001b[49m\n\u001b[1;32m   1414\u001b[0m     bound \u001b[38;5;241m=\u001b[39m new_sig\u001b[38;5;241m.\u001b[39mbind(ax, \u001b[38;5;241m*\u001b[39margs, \u001b[38;5;241m*\u001b[39m\u001b[38;5;241m*\u001b[39mkwargs)\n\u001b[1;32m   1415\u001b[0m     auto_label \u001b[38;5;241m=\u001b[39m (bound\u001b[38;5;241m.\u001b[39marguments\u001b[38;5;241m.\u001b[39mget(label_namer)\n\u001b[1;32m   1416\u001b[0m                   \u001b[38;5;129;01mor\u001b[39;00m bound\u001b[38;5;241m.\u001b[39mkwargs\u001b[38;5;241m.\u001b[39mget(label_namer))\n",
      "File \u001b[0;32m~/opt/anaconda3/lib/python3.9/site-packages/matplotlib/axes/_axes.py:2356\u001b[0m, in \u001b[0;36mAxes.bar\u001b[0;34m(self, x, height, width, bottom, align, **kwargs)\u001b[0m\n\u001b[1;32m   2354\u001b[0m linewidth \u001b[38;5;241m=\u001b[39m itertools\u001b[38;5;241m.\u001b[39mcycle(np\u001b[38;5;241m.\u001b[39matleast_1d(linewidth))\n\u001b[1;32m   2355\u001b[0m hatch \u001b[38;5;241m=\u001b[39m itertools\u001b[38;5;241m.\u001b[39mcycle(np\u001b[38;5;241m.\u001b[39matleast_1d(hatch))\n\u001b[0;32m-> 2356\u001b[0m color \u001b[38;5;241m=\u001b[39m itertools\u001b[38;5;241m.\u001b[39mchain(itertools\u001b[38;5;241m.\u001b[39mcycle(\u001b[43mmcolors\u001b[49m\u001b[38;5;241;43m.\u001b[39;49m\u001b[43mto_rgba_array\u001b[49m\u001b[43m(\u001b[49m\u001b[43mcolor\u001b[49m\u001b[43m)\u001b[49m),\n\u001b[1;32m   2357\u001b[0m                         \u001b[38;5;66;03m# Fallback if color == \"none\".\u001b[39;00m\n\u001b[1;32m   2358\u001b[0m                         itertools\u001b[38;5;241m.\u001b[39mrepeat(\u001b[38;5;124m'\u001b[39m\u001b[38;5;124mnone\u001b[39m\u001b[38;5;124m'\u001b[39m))\n\u001b[1;32m   2359\u001b[0m \u001b[38;5;28;01mif\u001b[39;00m edgecolor \u001b[38;5;129;01mis\u001b[39;00m \u001b[38;5;28;01mNone\u001b[39;00m:\n\u001b[1;32m   2360\u001b[0m     edgecolor \u001b[38;5;241m=\u001b[39m itertools\u001b[38;5;241m.\u001b[39mrepeat(\u001b[38;5;28;01mNone\u001b[39;00m)\n",
      "File \u001b[0;32m~/opt/anaconda3/lib/python3.9/site-packages/matplotlib/colors.py:377\u001b[0m, in \u001b[0;36mto_rgba_array\u001b[0;34m(c, alpha)\u001b[0m\n\u001b[1;32m    375\u001b[0m         rgba \u001b[38;5;241m=\u001b[39m np\u001b[38;5;241m.\u001b[39marray([to_rgba(cc) \u001b[38;5;28;01mfor\u001b[39;00m cc \u001b[38;5;129;01min\u001b[39;00m c])\n\u001b[1;32m    376\u001b[0m \u001b[38;5;28;01melse\u001b[39;00m:\n\u001b[0;32m--> 377\u001b[0m     rgba \u001b[38;5;241m=\u001b[39m np\u001b[38;5;241m.\u001b[39marray([to_rgba(cc) \u001b[38;5;28;01mfor\u001b[39;00m cc \u001b[38;5;129;01min\u001b[39;00m c])\n\u001b[1;32m    379\u001b[0m \u001b[38;5;28;01mif\u001b[39;00m alpha \u001b[38;5;129;01mis\u001b[39;00m \u001b[38;5;129;01mnot\u001b[39;00m \u001b[38;5;28;01mNone\u001b[39;00m:\n\u001b[1;32m    380\u001b[0m     rgba[:, \u001b[38;5;241m3\u001b[39m] \u001b[38;5;241m=\u001b[39m alpha\n",
      "File \u001b[0;32m~/opt/anaconda3/lib/python3.9/site-packages/matplotlib/colors.py:377\u001b[0m, in \u001b[0;36m<listcomp>\u001b[0;34m(.0)\u001b[0m\n\u001b[1;32m    375\u001b[0m         rgba \u001b[38;5;241m=\u001b[39m np\u001b[38;5;241m.\u001b[39marray([to_rgba(cc) \u001b[38;5;28;01mfor\u001b[39;00m cc \u001b[38;5;129;01min\u001b[39;00m c])\n\u001b[1;32m    376\u001b[0m \u001b[38;5;28;01melse\u001b[39;00m:\n\u001b[0;32m--> 377\u001b[0m     rgba \u001b[38;5;241m=\u001b[39m np\u001b[38;5;241m.\u001b[39marray([\u001b[43mto_rgba\u001b[49m\u001b[43m(\u001b[49m\u001b[43mcc\u001b[49m\u001b[43m)\u001b[49m \u001b[38;5;28;01mfor\u001b[39;00m cc \u001b[38;5;129;01min\u001b[39;00m c])\n\u001b[1;32m    379\u001b[0m \u001b[38;5;28;01mif\u001b[39;00m alpha \u001b[38;5;129;01mis\u001b[39;00m \u001b[38;5;129;01mnot\u001b[39;00m \u001b[38;5;28;01mNone\u001b[39;00m:\n\u001b[1;32m    380\u001b[0m     rgba[:, \u001b[38;5;241m3\u001b[39m] \u001b[38;5;241m=\u001b[39m alpha\n",
      "File \u001b[0;32m~/opt/anaconda3/lib/python3.9/site-packages/matplotlib/colors.py:187\u001b[0m, in \u001b[0;36mto_rgba\u001b[0;34m(c, alpha)\u001b[0m\n\u001b[1;32m    185\u001b[0m     rgba \u001b[38;5;241m=\u001b[39m \u001b[38;5;28;01mNone\u001b[39;00m\n\u001b[1;32m    186\u001b[0m \u001b[38;5;28;01mif\u001b[39;00m rgba \u001b[38;5;129;01mis\u001b[39;00m \u001b[38;5;28;01mNone\u001b[39;00m:  \u001b[38;5;66;03m# Suppress exception chaining of cache lookup failure.\u001b[39;00m\n\u001b[0;32m--> 187\u001b[0m     rgba \u001b[38;5;241m=\u001b[39m \u001b[43m_to_rgba_no_colorcycle\u001b[49m\u001b[43m(\u001b[49m\u001b[43mc\u001b[49m\u001b[43m,\u001b[49m\u001b[43m \u001b[49m\u001b[43malpha\u001b[49m\u001b[43m)\u001b[49m\n\u001b[1;32m    188\u001b[0m     \u001b[38;5;28;01mtry\u001b[39;00m:\n\u001b[1;32m    189\u001b[0m         _colors_full_map\u001b[38;5;241m.\u001b[39mcache[c, alpha] \u001b[38;5;241m=\u001b[39m rgba\n",
      "File \u001b[0;32m~/opt/anaconda3/lib/python3.9/site-packages/matplotlib/colors.py:262\u001b[0m, in \u001b[0;36m_to_rgba_no_colorcycle\u001b[0;34m(c, alpha)\u001b[0m\n\u001b[1;32m    258\u001b[0m             \u001b[38;5;28;01mraise\u001b[39;00m \u001b[38;5;167;01mValueError\u001b[39;00m(\n\u001b[1;32m    259\u001b[0m                 \u001b[38;5;124mf\u001b[39m\u001b[38;5;124m\"\u001b[39m\u001b[38;5;124mInvalid string grayscale value \u001b[39m\u001b[38;5;132;01m{\u001b[39;00morig_c\u001b[38;5;132;01m!r}\u001b[39;00m\u001b[38;5;124m. \u001b[39m\u001b[38;5;124m\"\u001b[39m\n\u001b[1;32m    260\u001b[0m                 \u001b[38;5;124mf\u001b[39m\u001b[38;5;124m\"\u001b[39m\u001b[38;5;124mValue must be within 0-1 range\u001b[39m\u001b[38;5;124m\"\u001b[39m)\n\u001b[1;32m    261\u001b[0m         \u001b[38;5;28;01mreturn\u001b[39;00m c, c, c, alpha \u001b[38;5;28;01mif\u001b[39;00m alpha \u001b[38;5;129;01mis\u001b[39;00m \u001b[38;5;129;01mnot\u001b[39;00m \u001b[38;5;28;01mNone\u001b[39;00m \u001b[38;5;28;01melse\u001b[39;00m \u001b[38;5;241m1.\u001b[39m\n\u001b[0;32m--> 262\u001b[0m     \u001b[38;5;28;01mraise\u001b[39;00m \u001b[38;5;167;01mValueError\u001b[39;00m(\u001b[38;5;124mf\u001b[39m\u001b[38;5;124m\"\u001b[39m\u001b[38;5;124mInvalid RGBA argument: \u001b[39m\u001b[38;5;132;01m{\u001b[39;00morig_c\u001b[38;5;132;01m!r}\u001b[39;00m\u001b[38;5;124m\"\u001b[39m)\n\u001b[1;32m    263\u001b[0m \u001b[38;5;66;03m# turn 2-D array into 1-D array\u001b[39;00m\n\u001b[1;32m    264\u001b[0m \u001b[38;5;28;01mif\u001b[39;00m \u001b[38;5;28misinstance\u001b[39m(c, np\u001b[38;5;241m.\u001b[39mndarray):\n",
      "\u001b[0;31mValueError\u001b[0m: Invalid RGBA argument: 'Golf'"
     ]
    },
    {
     "data": {
      "image/png": "[encoded data removed]",
      "text/plain": [
       "<Figure size 640x480 with 1 Axes>"
      ]
     },
     "metadata": {},
     "output_type": "display_data"
    }
   ],
   "source": [
    "# Create a Pandas DataFrame\n",
    "df = pd.DataFrame({\n",
    "    \"Country\": [\"Saudi Arabia\", \"Saudi Arabia\", \"Qatar\", \"Saudi Arabia\", \"Saudi Arabia\"],\n",
    "    \"Nominal bidder\": [\"Public investment Fund\", \"Public investment Fund\", \"Sheikh Jassim bin Hamad al-Thani\", \"Public investment Fund\", \"Public investment Fund\"],\n",
    "    \"Investor\": [\"650,000,000,000\", \"650000000000\", \"475000000000\", \"650000000000\", \"650000000000\"],\n",
    "    \"readable AUM\": [\"$650 billion AUM\", \"$650 billion AUM\", \"$475 billion\", \"$650 billion AUM\", \"$650 billion AUM\"],\n",
    "    \"Category\": [\"Golf\", \"Motorsports\", \"Football\", \"Tennis\", \"Golf\"],\n",
    "    \"Target/Entity\": [\"LIV\", \"Formula1\", \"Manchester United\", \"ATP\", \"PGA\"],\n",
    "    \"date\": [\"June 2022\", \"Jan 2023\", \"June 2023\", \"June 2023\", \"July 2023\"],\n",
    "    \"price, raw\": [2000000000, 20000000000, 6300000000, 150000000, 2000000000],\n",
    "    \"price paid/offered\": [\"$2 billion (reported)\", \"$20 billion\", \"$6.3 billion (£5 billion incl £1 billion debt) (reported)\", \"$150 million league value\", \"$2 billion (reported)\"],\n",
    "    \"overall value\": [\"\", \"\", \"$6 billion\", \"$250 million (FT)\", \"$485 million\"],\n",
    "    \"stake\": [\"\", \"\", \"\", \"\", \"10% ($48.5million)\"],\n",
    "    \"status\": [\"created\", \"rejected\", \"proposed\", \"ongoing\", \"proposed/subject to regulatory approval\"],\n",
    "    \"Location\": [\"USA, Europe, Singapore, Australia, Mexico, Saudi Arabia\", \"Europe, Gulf, USA, Mexico, Brazil, Australia, Singapore, Japan, Azerbaijan\", \"UK, Premier League\", \"USA, Canada, Mexico, Europe, Kazakhstan, Japan, Australia, China, Israel\", \"USA, Mexico, Japan, UK\"]\n",
    "})\n",
    "\n",
    "# Convert the date column to machine readable format\n",
    "df['date'] = pd.to_datetime(df['date'])\n",
    "\n",
    "# Set the x-axis to the \"date\" column\n",
    "plt.xlabel(\"Date\")\n",
    "plt.xticks(df['date'], rotation=45)\n",
    "\n",
    "# Set the y-axis to the \"price raw\" column\n",
    "plt.ylabel(\"Price raw\")\n",
    "\n",
    "# Color the bars by the \"Category\" column\n",
    "plt.bar(df[\"date\"], df[\"price, raw\"], color=df[\"Category\"])\n",
    "\n",
    "# Show the legend\n",
    "plt.legend()\n",
    "\n",
    "# Show the plot\n",
    "plt.show()"
   ]
  },
  {
   "cell_type": "code",
   "execution_count": 16,
   "id": "d67d9d04",
   "metadata": {},
   "outputs": [
    {
     "ename": "ValueError",
     "evalue": "Invalid RGBA argument: 'LIV'",
     "output_type": "error",
     "traceback": [
      "\u001b[0;31m---------------------------------------------------------------------------\u001b[0m",
      "\u001b[0;31mValueError\u001b[0m                                Traceback (most recent call last)",
      "Input \u001b[0;32mIn [16]\u001b[0m, in \u001b[0;36m<cell line: 29>\u001b[0;34m()\u001b[0m\n\u001b[1;32m     26\u001b[0m plt\u001b[38;5;241m.\u001b[39mylabel(\u001b[38;5;124m\"\u001b[39m\u001b[38;5;124mPrice raw\u001b[39m\u001b[38;5;124m\"\u001b[39m)\n\u001b[1;32m     28\u001b[0m \u001b[38;5;66;03m# Color the bars by the \"Target/Entity\" column\u001b[39;00m\n\u001b[0;32m---> 29\u001b[0m \u001b[43mplt\u001b[49m\u001b[38;5;241;43m.\u001b[39;49m\u001b[43mbar\u001b[49m\u001b[43m(\u001b[49m\u001b[43mdf\u001b[49m\u001b[43m[\u001b[49m\u001b[38;5;124;43m\"\u001b[39;49m\u001b[38;5;124;43mdate\u001b[39;49m\u001b[38;5;124;43m\"\u001b[39;49m\u001b[43m]\u001b[49m\u001b[43m,\u001b[49m\u001b[43m \u001b[49m\u001b[43mdf\u001b[49m\u001b[43m[\u001b[49m\u001b[38;5;124;43m\"\u001b[39;49m\u001b[38;5;124;43mprice, raw\u001b[39;49m\u001b[38;5;124;43m\"\u001b[39;49m\u001b[43m]\u001b[49m\u001b[43m,\u001b[49m\u001b[43m \u001b[49m\u001b[43mcolor\u001b[49m\u001b[38;5;241;43m=\u001b[39;49m\u001b[43mdf\u001b[49m\u001b[43m[\u001b[49m\u001b[38;5;124;43m\"\u001b[39;49m\u001b[38;5;124;43mTarget/Entity\u001b[39;49m\u001b[38;5;124;43m\"\u001b[39;49m\u001b[43m]\u001b[49m\u001b[43m)\u001b[49m\n\u001b[1;32m     31\u001b[0m \u001b[38;5;66;03m# Show the legend\u001b[39;00m\n\u001b[1;32m     32\u001b[0m plt\u001b[38;5;241m.\u001b[39mlegend()\n",
      "File \u001b[0;32m~/opt/anaconda3/lib/python3.9/site-packages/matplotlib/pyplot.py:2399\u001b[0m, in \u001b[0;36mbar\u001b[0;34m(x, height, width, bottom, align, data, **kwargs)\u001b[0m\n\u001b[1;32m   2395\u001b[0m \u001b[38;5;129m@_copy_docstring_and_deprecators\u001b[39m(Axes\u001b[38;5;241m.\u001b[39mbar)\n\u001b[1;32m   2396\u001b[0m \u001b[38;5;28;01mdef\u001b[39;00m \u001b[38;5;21mbar\u001b[39m(\n\u001b[1;32m   2397\u001b[0m         x, height, width\u001b[38;5;241m=\u001b[39m\u001b[38;5;241m0.8\u001b[39m, bottom\u001b[38;5;241m=\u001b[39m\u001b[38;5;28;01mNone\u001b[39;00m, \u001b[38;5;241m*\u001b[39m, align\u001b[38;5;241m=\u001b[39m\u001b[38;5;124m'\u001b[39m\u001b[38;5;124mcenter\u001b[39m\u001b[38;5;124m'\u001b[39m,\n\u001b[1;32m   2398\u001b[0m         data\u001b[38;5;241m=\u001b[39m\u001b[38;5;28;01mNone\u001b[39;00m, \u001b[38;5;241m*\u001b[39m\u001b[38;5;241m*\u001b[39mkwargs):\n\u001b[0;32m-> 2399\u001b[0m     \u001b[38;5;28;01mreturn\u001b[39;00m \u001b[43mgca\u001b[49m\u001b[43m(\u001b[49m\u001b[43m)\u001b[49m\u001b[38;5;241;43m.\u001b[39;49m\u001b[43mbar\u001b[49m\u001b[43m(\u001b[49m\n\u001b[1;32m   2400\u001b[0m \u001b[43m        \u001b[49m\u001b[43mx\u001b[49m\u001b[43m,\u001b[49m\u001b[43m \u001b[49m\u001b[43mheight\u001b[49m\u001b[43m,\u001b[49m\u001b[43m \u001b[49m\u001b[43mwidth\u001b[49m\u001b[38;5;241;43m=\u001b[39;49m\u001b[43mwidth\u001b[49m\u001b[43m,\u001b[49m\u001b[43m \u001b[49m\u001b[43mbottom\u001b[49m\u001b[38;5;241;43m=\u001b[39;49m\u001b[43mbottom\u001b[49m\u001b[43m,\u001b[49m\u001b[43m \u001b[49m\u001b[43malign\u001b[49m\u001b[38;5;241;43m=\u001b[39;49m\u001b[43malign\u001b[49m\u001b[43m,\u001b[49m\n\u001b[1;32m   2401\u001b[0m \u001b[43m        \u001b[49m\u001b[38;5;241;43m*\u001b[39;49m\u001b[38;5;241;43m*\u001b[39;49m\u001b[43m(\u001b[49m\u001b[43m{\u001b[49m\u001b[38;5;124;43m\"\u001b[39;49m\u001b[38;5;124;43mdata\u001b[39;49m\u001b[38;5;124;43m\"\u001b[39;49m\u001b[43m:\u001b[49m\u001b[43m \u001b[49m\u001b[43mdata\u001b[49m\u001b[43m}\u001b[49m\u001b[43m \u001b[49m\u001b[38;5;28;43;01mif\u001b[39;49;00m\u001b[43m \u001b[49m\u001b[43mdata\u001b[49m\u001b[43m \u001b[49m\u001b[38;5;129;43;01mis\u001b[39;49;00m\u001b[43m \u001b[49m\u001b[38;5;129;43;01mnot\u001b[39;49;00m\u001b[43m \u001b[49m\u001b[38;5;28;43;01mNone\u001b[39;49;00m\u001b[43m \u001b[49m\u001b[38;5;28;43;01melse\u001b[39;49;00m\u001b[43m \u001b[49m\u001b[43m{\u001b[49m\u001b[43m}\u001b[49m\u001b[43m)\u001b[49m\u001b[43m,\u001b[49m\u001b[43m \u001b[49m\u001b[38;5;241;43m*\u001b[39;49m\u001b[38;5;241;43m*\u001b[39;49m\u001b[43mkwargs\u001b[49m\u001b[43m)\u001b[49m\n",
      "File \u001b[0;32m~/opt/anaconda3/lib/python3.9/site-packages/matplotlib/__init__.py:1412\u001b[0m, in \u001b[0;36m_preprocess_data.<locals>.inner\u001b[0;34m(ax, data, *args, **kwargs)\u001b[0m\n\u001b[1;32m   1409\u001b[0m \u001b[38;5;129m@functools\u001b[39m\u001b[38;5;241m.\u001b[39mwraps(func)\n\u001b[1;32m   1410\u001b[0m \u001b[38;5;28;01mdef\u001b[39;00m \u001b[38;5;21minner\u001b[39m(ax, \u001b[38;5;241m*\u001b[39margs, data\u001b[38;5;241m=\u001b[39m\u001b[38;5;28;01mNone\u001b[39;00m, \u001b[38;5;241m*\u001b[39m\u001b[38;5;241m*\u001b[39mkwargs):\n\u001b[1;32m   1411\u001b[0m     \u001b[38;5;28;01mif\u001b[39;00m data \u001b[38;5;129;01mis\u001b[39;00m \u001b[38;5;28;01mNone\u001b[39;00m:\n\u001b[0;32m-> 1412\u001b[0m         \u001b[38;5;28;01mreturn\u001b[39;00m \u001b[43mfunc\u001b[49m\u001b[43m(\u001b[49m\u001b[43max\u001b[49m\u001b[43m,\u001b[49m\u001b[43m \u001b[49m\u001b[38;5;241;43m*\u001b[39;49m\u001b[38;5;28;43mmap\u001b[39;49m\u001b[43m(\u001b[49m\u001b[43msanitize_sequence\u001b[49m\u001b[43m,\u001b[49m\u001b[43m \u001b[49m\u001b[43margs\u001b[49m\u001b[43m)\u001b[49m\u001b[43m,\u001b[49m\u001b[43m \u001b[49m\u001b[38;5;241;43m*\u001b[39;49m\u001b[38;5;241;43m*\u001b[39;49m\u001b[43mkwargs\u001b[49m\u001b[43m)\u001b[49m\n\u001b[1;32m   1414\u001b[0m     bound \u001b[38;5;241m=\u001b[39m new_sig\u001b[38;5;241m.\u001b[39mbind(ax, \u001b[38;5;241m*\u001b[39margs, \u001b[38;5;241m*\u001b[39m\u001b[38;5;241m*\u001b[39mkwargs)\n\u001b[1;32m   1415\u001b[0m     auto_label \u001b[38;5;241m=\u001b[39m (bound\u001b[38;5;241m.\u001b[39marguments\u001b[38;5;241m.\u001b[39mget(label_namer)\n\u001b[1;32m   1416\u001b[0m                   \u001b[38;5;129;01mor\u001b[39;00m bound\u001b[38;5;241m.\u001b[39mkwargs\u001b[38;5;241m.\u001b[39mget(label_namer))\n",
      "File \u001b[0;32m~/opt/anaconda3/lib/python3.9/site-packages/matplotlib/axes/_axes.py:2356\u001b[0m, in \u001b[0;36mAxes.bar\u001b[0;34m(self, x, height, width, bottom, align, **kwargs)\u001b[0m\n\u001b[1;32m   2354\u001b[0m linewidth \u001b[38;5;241m=\u001b[39m itertools\u001b[38;5;241m.\u001b[39mcycle(np\u001b[38;5;241m.\u001b[39matleast_1d(linewidth))\n\u001b[1;32m   2355\u001b[0m hatch \u001b[38;5;241m=\u001b[39m itertools\u001b[38;5;241m.\u001b[39mcycle(np\u001b[38;5;241m.\u001b[39matleast_1d(hatch))\n\u001b[0;32m-> 2356\u001b[0m color \u001b[38;5;241m=\u001b[39m itertools\u001b[38;5;241m.\u001b[39mchain(itertools\u001b[38;5;241m.\u001b[39mcycle(\u001b[43mmcolors\u001b[49m\u001b[38;5;241;43m.\u001b[39;49m\u001b[43mto_rgba_array\u001b[49m\u001b[43m(\u001b[49m\u001b[43mcolor\u001b[49m\u001b[43m)\u001b[49m),\n\u001b[1;32m   2357\u001b[0m                         \u001b[38;5;66;03m# Fallback if color == \"none\".\u001b[39;00m\n\u001b[1;32m   2358\u001b[0m                         itertools\u001b[38;5;241m.\u001b[39mrepeat(\u001b[38;5;124m'\u001b[39m\u001b[38;5;124mnone\u001b[39m\u001b[38;5;124m'\u001b[39m))\n\u001b[1;32m   2359\u001b[0m \u001b[38;5;28;01mif\u001b[39;00m edgecolor \u001b[38;5;129;01mis\u001b[39;00m \u001b[38;5;28;01mNone\u001b[39;00m:\n\u001b[1;32m   2360\u001b[0m     edgecolor \u001b[38;5;241m=\u001b[39m itertools\u001b[38;5;241m.\u001b[39mrepeat(\u001b[38;5;28;01mNone\u001b[39;00m)\n",
      "File \u001b[0;32m~/opt/anaconda3/lib/python3.9/site-packages/matplotlib/colors.py:377\u001b[0m, in \u001b[0;36mto_rgba_array\u001b[0;34m(c, alpha)\u001b[0m\n\u001b[1;32m    375\u001b[0m         rgba \u001b[38;5;241m=\u001b[39m np\u001b[38;5;241m.\u001b[39marray([to_rgba(cc) \u001b[38;5;28;01mfor\u001b[39;00m cc \u001b[38;5;129;01min\u001b[39;00m c])\n\u001b[1;32m    376\u001b[0m \u001b[38;5;28;01melse\u001b[39;00m:\n\u001b[0;32m--> 377\u001b[0m     rgba \u001b[38;5;241m=\u001b[39m np\u001b[38;5;241m.\u001b[39marray([to_rgba(cc) \u001b[38;5;28;01mfor\u001b[39;00m cc \u001b[38;5;129;01min\u001b[39;00m c])\n\u001b[1;32m    379\u001b[0m \u001b[38;5;28;01mif\u001b[39;00m alpha \u001b[38;5;129;01mis\u001b[39;00m \u001b[38;5;129;01mnot\u001b[39;00m \u001b[38;5;28;01mNone\u001b[39;00m:\n\u001b[1;32m    380\u001b[0m     rgba[:, \u001b[38;5;241m3\u001b[39m] \u001b[38;5;241m=\u001b[39m alpha\n",
      "File \u001b[0;32m~/opt/anaconda3/lib/python3.9/site-packages/matplotlib/colors.py:377\u001b[0m, in \u001b[0;36m<listcomp>\u001b[0;34m(.0)\u001b[0m\n\u001b[1;32m    375\u001b[0m         rgba \u001b[38;5;241m=\u001b[39m np\u001b[38;5;241m.\u001b[39marray([to_rgba(cc) \u001b[38;5;28;01mfor\u001b[39;00m cc \u001b[38;5;129;01min\u001b[39;00m c])\n\u001b[1;32m    376\u001b[0m \u001b[38;5;28;01melse\u001b[39;00m:\n\u001b[0;32m--> 377\u001b[0m     rgba \u001b[38;5;241m=\u001b[39m np\u001b[38;5;241m.\u001b[39marray([\u001b[43mto_rgba\u001b[49m\u001b[43m(\u001b[49m\u001b[43mcc\u001b[49m\u001b[43m)\u001b[49m \u001b[38;5;28;01mfor\u001b[39;00m cc \u001b[38;5;129;01min\u001b[39;00m c])\n\u001b[1;32m    379\u001b[0m \u001b[38;5;28;01mif\u001b[39;00m alpha \u001b[38;5;129;01mis\u001b[39;00m \u001b[38;5;129;01mnot\u001b[39;00m \u001b[38;5;28;01mNone\u001b[39;00m:\n\u001b[1;32m    380\u001b[0m     rgba[:, \u001b[38;5;241m3\u001b[39m] \u001b[38;5;241m=\u001b[39m alpha\n",
      "File \u001b[0;32m~/opt/anaconda3/lib/python3.9/site-packages/matplotlib/colors.py:187\u001b[0m, in \u001b[0;36mto_rgba\u001b[0;34m(c, alpha)\u001b[0m\n\u001b[1;32m    185\u001b[0m     rgba \u001b[38;5;241m=\u001b[39m \u001b[38;5;28;01mNone\u001b[39;00m\n\u001b[1;32m    186\u001b[0m \u001b[38;5;28;01mif\u001b[39;00m rgba \u001b[38;5;129;01mis\u001b[39;00m \u001b[38;5;28;01mNone\u001b[39;00m:  \u001b[38;5;66;03m# Suppress exception chaining of cache lookup failure.\u001b[39;00m\n\u001b[0;32m--> 187\u001b[0m     rgba \u001b[38;5;241m=\u001b[39m \u001b[43m_to_rgba_no_colorcycle\u001b[49m\u001b[43m(\u001b[49m\u001b[43mc\u001b[49m\u001b[43m,\u001b[49m\u001b[43m \u001b[49m\u001b[43malpha\u001b[49m\u001b[43m)\u001b[49m\n\u001b[1;32m    188\u001b[0m     \u001b[38;5;28;01mtry\u001b[39;00m:\n\u001b[1;32m    189\u001b[0m         _colors_full_map\u001b[38;5;241m.\u001b[39mcache[c, alpha] \u001b[38;5;241m=\u001b[39m rgba\n",
      "File \u001b[0;32m~/opt/anaconda3/lib/python3.9/site-packages/matplotlib/colors.py:262\u001b[0m, in \u001b[0;36m_to_rgba_no_colorcycle\u001b[0;34m(c, alpha)\u001b[0m\n\u001b[1;32m    258\u001b[0m             \u001b[38;5;28;01mraise\u001b[39;00m \u001b[38;5;167;01mValueError\u001b[39;00m(\n\u001b[1;32m    259\u001b[0m                 \u001b[38;5;124mf\u001b[39m\u001b[38;5;124m\"\u001b[39m\u001b[38;5;124mInvalid string grayscale value \u001b[39m\u001b[38;5;132;01m{\u001b[39;00morig_c\u001b[38;5;132;01m!r}\u001b[39;00m\u001b[38;5;124m. \u001b[39m\u001b[38;5;124m\"\u001b[39m\n\u001b[1;32m    260\u001b[0m                 \u001b[38;5;124mf\u001b[39m\u001b[38;5;124m\"\u001b[39m\u001b[38;5;124mValue must be within 0-1 range\u001b[39m\u001b[38;5;124m\"\u001b[39m)\n\u001b[1;32m    261\u001b[0m         \u001b[38;5;28;01mreturn\u001b[39;00m c, c, c, alpha \u001b[38;5;28;01mif\u001b[39;00m alpha \u001b[38;5;129;01mis\u001b[39;00m \u001b[38;5;129;01mnot\u001b[39;00m \u001b[38;5;28;01mNone\u001b[39;00m \u001b[38;5;28;01melse\u001b[39;00m \u001b[38;5;241m1.\u001b[39m\n\u001b[0;32m--> 262\u001b[0m     \u001b[38;5;28;01mraise\u001b[39;00m \u001b[38;5;167;01mValueError\u001b[39;00m(\u001b[38;5;124mf\u001b[39m\u001b[38;5;124m\"\u001b[39m\u001b[38;5;124mInvalid RGBA argument: \u001b[39m\u001b[38;5;132;01m{\u001b[39;00morig_c\u001b[38;5;132;01m!r}\u001b[39;00m\u001b[38;5;124m\"\u001b[39m)\n\u001b[1;32m    263\u001b[0m \u001b[38;5;66;03m# turn 2-D array into 1-D array\u001b[39;00m\n\u001b[1;32m    264\u001b[0m \u001b[38;5;28;01mif\u001b[39;00m \u001b[38;5;28misinstance\u001b[39m(c, np\u001b[38;5;241m.\u001b[39mndarray):\n",
      "\u001b[0;31mValueError\u001b[0m: Invalid RGBA argument: 'LIV'"
     ]
    },
    {
     "data": {
      "image/png": "[encoded data removed]",
      "text/plain": [
       "<Figure size 640x480 with 1 Axes>"
      ]
     },
     "metadata": {},
     "output_type": "display_data"
    }
   ],
   "source": [
    "# Create a Pandas DataFrame\n",
    "df = pd.DataFrame({\n",
    "    \"Country\": [\"Saudi Arabia\", \"Saudi Arabia\", \"Qatar\", \"Saudi Arabia\", \"Saudi Arabia\"],\n",
    "    \"Nominal bidder\": [\"Public investment Fund\", \"Public investment Fund\", \"Sheikh Jassim bin Hamad al-Thani\", \"Public investment Fund\", \"Public investment Fund\"],\n",
    "    \"Investor\": [\"650,000,000,000\", \"650000000000\", \"475000000000\", \"650000000000\", \"650000000000\"],\n",
    "    \"readable AUM\": [\"$650 billion AUM\", \"$650 billion AUM\", \"$475 billion\", \"$650 billion AUM\", \"$650 billion AUM\"],\n",
    "    \"Category\": [\"Golf\", \"Motorsports\", \"Football\", \"Tennis\", \"Golf\"],\n",
    "    \"Target/Entity\": [\"LIV\", \"Formula1\", \"Manchester United\", \"ATP\", \"PGA\"],\n",
    "    \"date\": [\"June 2022\", \"Jan 2023\", \"June 2023\", \"June 2023\", \"July 2023\"],\n",
    "    \"price, raw\": [2000000000, 20000000000, 6300000000, 150000000, 2000000000],\n",
    "    \"price paid/offered\": [\"$2 billion (reported)\", \"$20 billion\", \"$6.3 billion (£5 billion incl £1 billion debt) (reported)\", \"$150 million league value\", \"$2 billion (reported)\"],\n",
    "    \"overall value\": [\"\", \"\", \"$6 billion\", \"$250 million (FT)\", \"$485 million\"],\n",
    "    \"stake\": [\"\", \"\", \"\", \"\", \"10% ($48.5million)\"],\n",
    "    \"status\": [\"created\", \"rejected\", \"proposed\", \"ongoing\", \"proposed/subject to regulatory approval\"],\n",
    "    \"Location\": [\"USA, Europe, Singapore, Australia, Mexico, Saudi Arabia\", \"Europe, Gulf, USA, Mexico, Brazil, Australia, Singapore, Japan, Azerbaijan\", \"UK, Premier League\", \"USA, Canada, Mexico, Europe, Kazakhstan, Japan, Australia, China, Israel\", \"USA, Mexico, Japan, UK\"]\n",
    "})\n",
    "\n",
    "# Convert the date column to machine readable format\n",
    "df['date'] = pd.to_datetime(df['date'])\n",
    "\n",
    "# Set the x-axis to the \"date\" column\n",
    "plt.xlabel(\"Date\")\n",
    "plt.xticks(df['date'], rotation=45)\n",
    "\n",
    "# Set the y-axis to the \"price raw\" column\n",
    "plt.ylabel(\"Price raw\")\n",
    "\n",
    "# Color the bars by the \"Target/Entity\" column\n",
    "plt.bar(df[\"date\"], df[\"price, raw\"], color=df[\"Target/Entity\"])\n",
    "\n",
    "# Show the legend\n",
    "plt.legend()\n",
    "\n",
    "# Show the plot\n",
    "plt.show()"
   ]
  },
  {
   "cell_type": "code",
   "execution_count": null,
   "id": "f0c7a088",
   "metadata": {},
   "outputs": [],
   "source": []
  }
 ],
 "metadata": {
  "kernelspec": {
   "display_name": "Python 3 (ipykernel)",
   "language": "python",
   "name": "python3"
  },
  "language_info": {
   "codemirror_mode": {
    "name": "ipython",
    "version": 3
   },
   "file_extension": ".py",
   "mimetype": "text/x-python",
   "name": "python",
   "nbconvert_exporter": "python",
   "pygments_lexer": "ipython3",
   "version": "3.9.13"
  }
 },
 "nbformat": 4,
 "nbformat_minor": 5
}
